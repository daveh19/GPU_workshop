{
 "cells": [
  {
   "cell_type": "markdown",
   "metadata": {},
   "source": [
    "## Tensorflow for drift diffusion\n",
    "\n",
    "tensor for the transition\n",
    "vector for the state \n",
    "\n"
   ]
  },
  {
   "cell_type": "code",
   "execution_count": 10,
   "metadata": {
    "collapsed": true
   },
   "outputs": [],
   "source": [
    "import tensorflow as tf\n",
    "import numpy as np\n",
    "import matplotlib.pyplot as plt\n",
    "%matplotlib inline\n",
    "tf.reset_default_graph()"
   ]
  },
  {
   "cell_type": "code",
   "execution_count": 11,
   "metadata": {
    "collapsed": false
   },
   "outputs": [],
   "source": [
    "dt = 1.\n",
    "dx = 1.\n",
    "N = 100\n",
    "M = 1000\n",
    "u_init = tf.Variable(np.zeros([N, 1], dtype=np.float32))"
   ]
  },
  {
   "cell_type": "code",
   "execution_count": 12,
   "metadata": {
    "collapsed": false
   },
   "outputs": [],
   "source": [
    "# define the transition matrix \n",
    "m = np.random.rand(N, N)\n",
    "T = tf.constant(m)"
   ]
  },
  {
   "cell_type": "code",
   "execution_count": 13,
   "metadata": {
    "collapsed": false
   },
   "outputs": [],
   "source": [
    "def transition_prob(x1, x2, dt, mu=.1, sigma=1.): \n",
    "    return 1 / (np.sqrt(2 * np.pi * dt * sigma ** 2)) * np.exp(-(x1 - x2 - mu * dt) ** 2 / (2 * sigma ** 2 * dt))\n",
    "\n",
    "x, y = np.meshgrid(np.arange(0, N, dx), np.arange(0, N, dx))\n",
    "m = transition_prob(x, y, dt)"
   ]
  },
  {
   "cell_type": "code",
   "execution_count": 14,
   "metadata": {
    "collapsed": true
   },
   "outputs": [],
   "source": [
    "state_mat = np.zeros((N, M))"
   ]
  },
  {
   "cell_type": "code",
   "execution_count": 15,
   "metadata": {
    "collapsed": true
   },
   "outputs": [],
   "source": [
    "sess = tf.InteractiveSession()"
   ]
  },
  {
   "cell_type": "code",
   "execution_count": 16,
   "metadata": {
    "collapsed": false
   },
   "outputs": [],
   "source": [
    "# state vector \n",
    "u_init = np.zeros(N)\n",
    "u_init[int(N / 2)] = 1.\n",
    "idx = tf.placeholder(tf.int64)\n",
    "\n",
    "U = tf.Variable(u_init)\n",
    "\n",
    "U_ = tf.tensordot(U, m, axes=1)\n",
    "#indices = tf.constant(np.arange(1, N))\n",
    "step = tf.group(U.assign(U_))\n",
    "\n",
    "\n",
    "tf.summary.scalar(\"PX\", U[50])\n",
    "summary_op = tf.summary.merge_all()\n",
    "\n",
    "# Initialize state to initial conditions\n",
    "tf.global_variables_initializer().run()\n",
    "\n",
    "summary_writer = tf.summary.FileWriter('logs', sess.graph) "
   ]
  },
  {
   "cell_type": "code",
   "execution_count": 18,
   "metadata": {
    "collapsed": false
   },
   "outputs": [],
   "source": [
    "# Run 1000 steps of PDE\n",
    "for i in range(M):\n",
    "    state_mat[:, i] = U.eval()\n",
    "    sess.run(step,{idx: i})\n",
    "    summary = sess.run(summary_op)\n",
    "    summary_writer.add_summary(summary,i)\n",
    "    "
   ]
  },
  {
   "cell_type": "code",
   "execution_count": 19,
   "metadata": {
    "collapsed": false
   },
   "outputs": [
    {
     "data": {
      "image/png": "[encoded data removed]",
      "text/plain": [
       "<matplotlib.figure.Figure at 0x119d70a90>"
      ]
     },
     "metadata": {},
     "output_type": "display_data"
    }
   ],
   "source": [
    "plt.figure(figsize = (18,3))\n",
    "im =plt.imshow(state_mat, origin='lower', aspect='auto')\n",
    "plt.colorbar()\n",
    "im.set_clim(vmin=0,vmax=0.07)\n",
    "plt.xlabel('Time', fontsize = 14)\n",
    "plt.ylabel('X', fontsize = 14)\n",
    "plt.title('Distribution P(X) at each time step');"
   ]
  },
  {
   "cell_type": "code",
   "execution_count": 20,
   "metadata": {
    "collapsed": true
   },
   "outputs": [],
   "source": [
    "summary_writer.close()"
   ]
  },
  {
   "cell_type": "code",
   "execution_count": 22,
   "metadata": {
    "collapsed": false
   },
   "outputs": [
    {
     "name": "stdout",
     "output_type": "stream",
     "text": [
      "1\n",
      "2\n",
      "3\n",
      "4\n",
      "5\n"
     ]
    }
   ],
   "source": [
    "import tensorflow as tf\n",
    "\n",
    "x = tf.Variable(0, name='x')\n",
    "\n",
    "with tf.Session() as sess:    \n",
    "    sess.run(tf.global_variables_initializer())    \n",
    "    for i in range(5):        \n",
    "        x = x + 1\n",
    "        print(sess.run(x))"
   ]
  },
  {
   "cell_type": "code",
   "execution_count": null,
   "metadata": {
    "collapsed": true
   },
   "outputs": [],
   "source": []
  }
 ],
 "metadata": {
  "kernelspec": {
   "display_name": "Python 3",
   "language": "python",
   "name": "python3"
  },
  "language_info": {
   "codemirror_mode": {
    "name": "ipython",
    "version": 3
   },
   "file_extension": ".py",
   "mimetype": "text/x-python",
   "name": "python",
   "nbconvert_exporter": "python",
   "pygments_lexer": "ipython3",
   "version": "3.6.0"
  }
 },
 "nbformat": 4,
 "nbformat_minor": 0
}
