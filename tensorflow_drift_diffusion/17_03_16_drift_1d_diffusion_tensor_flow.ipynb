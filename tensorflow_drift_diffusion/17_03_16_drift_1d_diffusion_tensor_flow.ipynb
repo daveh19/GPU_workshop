{
 "cells": [
  {
   "cell_type": "markdown",
   "metadata": {},
   "source": [
    "## Tensorflow for drift diffusion 1D\n",
    "\n",
    "tensor for the transition\n",
    "vector for the state \n",
    "\n"
   ]
  },
  {
   "cell_type": "code",
   "execution_count": null,
   "metadata": {
    "collapsed": true
   },
   "outputs": [],
   "source": [
    "import tensorflow as tf\n",
    "import numpy as np\n",
    "import matplotlib.pyplot as plt\n",
    "%matplotlib inline"
   ]
  },
  {
   "cell_type": "code",
   "execution_count": null,
   "metadata": {
    "collapsed": false
   },
   "outputs": [],
   "source": [
    "dt = 1.\n",
    "dx = 1.\n",
    "N = 100\n",
    "M = 1000"
   ]
  },
  {
   "cell_type": "code",
   "execution_count": null,
   "metadata": {
    "collapsed": false
   },
   "outputs": [],
   "source": [
    "def transition_prob(x1, x2, dt, mu=.1, sigma=1.): \n",
    "    return 1 / (np.sqrt(2 * np.pi * dt * sigma ** 2)) * np.exp(-(x1 - x2 - mu * dt) ** 2 / (2 * sigma ** 2 * dt))\n",
    "\n",
    "x, y = np.meshgrid(np.arange(0, N, dx), np.arange(0, N, dx))\n",
    "m = tf.constant(transition_prob(x, y, dt), name='transitionProps')"
   ]
  },
  {
   "cell_type": "code",
   "execution_count": null,
   "metadata": {
    "collapsed": true
   },
   "outputs": [],
   "source": [
    "state_mat = np.zeros((N, M))"
   ]
  },
  {
   "cell_type": "code",
   "execution_count": null,
   "metadata": {
    "collapsed": true
   },
   "outputs": [],
   "source": [
    "sess = tf.InteractiveSession()"
   ]
  },
  {
   "cell_type": "code",
   "execution_count": null,
   "metadata": {
    "collapsed": false
   },
   "outputs": [],
   "source": [
    "# state vector \n",
    "import time \n",
    "u_init = np.zeros((N, 1))\n",
    "u_init[int(N / 2)] = 1.\n",
    "\n",
    "U = tf.Variable(u_init, name='state_vector')\n",
    "\n",
    "U_ = tf.matmul(m, U)\n",
    "#indices = tf.constant(np.arange(1, N))\n",
    "step = U.assign(U_)\n",
    "\n",
    "# Initialize state to initial conditions\n",
    "tf.global_variables_initializer().run()"
   ]
  },
  {
   "cell_type": "code",
   "execution_count": null,
   "metadata": {
    "collapsed": false
   },
   "outputs": [],
   "source": [
    "# Run 1000 steps of PDE\n",
    "t0 = time.time()\n",
    "for i in range(M):\n",
    "#    state_mat[:, i] = U.eval().squeeze()\n",
    "    sess.run(step)\n",
    "td = time.time() - t0\n",
    "td"
   ]
  },
  {
   "cell_type": "code",
   "execution_count": null,
   "metadata": {
    "collapsed": false
   },
   "outputs": [],
   "source": [
    "plt.figure(figsize = (18,3))\n",
    "im =plt.imshow(state_mat, origin='lower', aspect='auto')\n",
    "plt.colorbar()\n",
    "im.set_clim(vmin=0,vmax=0.07)\n",
    "plt.xlabel('Time', fontsize = 14)\n",
    "plt.ylabel('X', fontsize = 14)\n",
    "plt.title('Distribution P(X) at each time step');"
   ]
  },
  {
   "cell_type": "code",
   "execution_count": null,
   "metadata": {
    "collapsed": true
   },
   "outputs": [],
   "source": [
    "summary_writer = tf.summary.FileWriter('logs', sess.graph)"
   ]
  },
  {
   "cell_type": "code",
   "execution_count": null,
   "metadata": {
    "collapsed": true
   },
   "outputs": [],
   "source": []
  }
 ],
 "metadata": {
  "kernelspec": {
   "display_name": "Python 3",
   "language": "python",
   "name": "python3"
  },
  "language_info": {
   "codemirror_mode": {
    "name": "ipython",
    "version": 3
   },
   "file_extension": ".py",
   "mimetype": "text/x-python",
   "name": "python",
   "nbconvert_exporter": "python",
   "pygments_lexer": "ipython3",
   "version": "3.5.3"
  }
 },
 "nbformat": 4,
 "nbformat_minor": 0
}
