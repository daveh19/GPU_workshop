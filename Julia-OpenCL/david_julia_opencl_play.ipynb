{
 "cells": [
  {
   "cell_type": "code",
   "execution_count": 1,
   "metadata": {
    "collapsed": false
   },
   "outputs": [
    {
     "name": "stdout",
     "output_type": "stream",
     "text": [
      "Julia Version 0.5.0\n",
      "Commit 3c9d753 (2016-09-19 18:14 UTC)\n",
      "Platform Info:\n",
      "  System: Darwin (x86_64-apple-darwin13.4.0)\n",
      "  CPU: Intel(R) Core(TM) i7-4650U CPU @ 1.70GHz\n",
      "  WORD_SIZE: 64\n",
      "  BLAS: libopenblas (USE64BITINT DYNAMIC_ARCH NO_AFFINITY Haswell)\n",
      "  LAPACK: libopenblas64_\n",
      "  LIBM: libopenlibm\n",
      "  LLVM: libLLVM-3.7.1 (ORCJIT, haswell)\n"
     ]
    }
   ],
   "source": [
    "versioninfo()"
   ]
  },
  {
   "cell_type": "code",
   "execution_count": 2,
   "metadata": {
    "collapsed": false
   },
   "outputs": [],
   "source": [
    "using OpenCL"
   ]
  },
  {
   "cell_type": "code",
   "execution_count": 21,
   "metadata": {
    "collapsed": false
   },
   "outputs": [
    {
     "name": "stderr",
     "output_type": "stream",
     "text": [
      "WARNING: Method definition print_cl_stuff() in module Main at In[19]:2 overwritten at In[21]:2.\n"
     ]
    },
    {
     "data": {
      "text/plain": [
       "print_cl_stuff (generic function with 1 method)"
      ]
     },
     "execution_count": 21,
     "metadata": {},
     "output_type": "execute_result"
    }
   ],
   "source": [
    "function print_cl_stuff()\n",
    "    print(\"Number of Platforms: \", cl.num_platforms(), \"\\n\")\n",
    "    for plat in cl.num_platforms()\n",
    "        print(\"Platform[\", plat, \"]: \", cl.platforms()[plat], \"\\n\")\n",
    "        #print(\"Platforms: \", cl.platforms())\n",
    "        numdevices = length(cl.devices())\n",
    "        print(\"\\tNumber of Devices: \", numdevices, \"\\n\")\n",
    "        for dev = 1:numdevices\n",
    "            print(\"\\tDevice[\", dev, \"]: \", cl.devices()[dev], \"\\n\")\n",
    "        end\n",
    "        #print(\"\\nDevices: \", cl.devices(), \"\\n\")\n",
    "    end\n",
    "end"
   ]
  },
  {
   "cell_type": "code",
   "execution_count": 22,
   "metadata": {
    "collapsed": false
   },
   "outputs": [
    {
     "name": "stdout",
     "output_type": "stream",
     "text": [
      "Number of Platforms: 1\n",
      "Platform[1]: OpenCL.Platform('Apple' @0x000000007fff0000)\n",
      "\tNumber of Devices: 2\n",
      "\tDevice[1]: OpenCL.Device(Intel(R) Core(TM) i7-4650U CPU @ 1.70GHz on Apple @0x00000000ffffffff)\n",
      "\tDevice[2]: OpenCL.Device(HD Graphics 5000 on Apple @0x0000000001024500)\n"
     ]
    }
   ],
   "source": [
    "print_cl_stuff()"
   ]
  },
  {
   "cell_type": "code",
   "execution_count": 43,
   "metadata": {
    "collapsed": false
   },
   "outputs": [
    {
     "name": "stderr",
     "output_type": "stream",
     "text": [
      "WARNING: Method definition set_device(Any, Any) in module Main at In[42]:2 overwritten at In[43]:2.\n"
     ]
    },
    {
     "data": {
      "text/plain": [
       "set_device (generic function with 2 methods)"
      ]
     },
     "execution_count": 43,
     "metadata": {},
     "output_type": "execute_result"
    }
   ],
   "source": [
    "function set_device(device_id, platform)\n",
    "    device = cl.devices()[device_id]\n",
    "    return device\n",
    "end\n",
    "\n",
    "function set_device(device_id)\n",
    "    platform = set_platform()\n",
    "    return set_device(device_id, platform)\n",
    "end"
   ]
  },
  {
   "cell_type": "code",
   "execution_count": 44,
   "metadata": {
    "collapsed": false
   },
   "outputs": [
    {
     "name": "stderr",
     "output_type": "stream",
     "text": [
      "WARNING: Method definition set_context(Any) in module Main at In[39]:2 overwritten at In[44]:2.\n"
     ]
    },
    {
     "data": {
      "text/plain": [
       "set_context (generic function with 1 method)"
      ]
     },
     "execution_count": 44,
     "metadata": {},
     "output_type": "execute_result"
    }
   ],
   "source": [
    "function set_context(device)\n",
    "    ctx = cl.Context(device)\n",
    "    return ctx\n",
    "end"
   ]
  },
  {
   "cell_type": "code",
   "execution_count": 45,
   "metadata": {
    "collapsed": false
   },
   "outputs": [
    {
     "name": "stderr",
     "output_type": "stream",
     "text": [
      "WARNING: Method definition set_platform() in module Main at In[40]:2 overwritten at In[45]:2.\n",
      "WARNING: Method definition set_platform(Any) in module Main at In[40]:2 overwritten at In[45]:2.\n"
     ]
    },
    {
     "data": {
      "text/plain": [
       "set_platform (generic function with 2 methods)"
      ]
     },
     "execution_count": 45,
     "metadata": {},
     "output_type": "execute_result"
    }
   ],
   "source": [
    "function set_platform(platform_id=0)\n",
    "    platform = cl.Platform(platform_id)\n",
    "    return platform\n",
    "end"
   ]
  },
  {
   "cell_type": "code",
   "execution_count": 12,
   "metadata": {
    "collapsed": false
   },
   "outputs": [
    {
     "data": {
      "text/markdown": [
       "No documentation found.\n",
       "\n",
       "`OpenCL.cl.num_devices` is a `Function`.\n",
       "\n",
       "```\n",
       "# 2 methods for generic function \"num_devices\":\n",
       "num_devices(p::OpenCL.cl.Program) at /Users/davidhiggins/.julia/v0.5/OpenCL/src/program.jl:97\n",
       "num_devices(ctx::OpenCL.cl.Context) at /Users/davidhiggins/.julia/v0.5/OpenCL/src/context.jl:217\n",
       "```\n"
      ],
      "text/plain": [
       "No documentation found.\n",
       "\n",
       "`OpenCL.cl.num_devices` is a `Function`.\n",
       "\n",
       "```\n",
       "# 2 methods for generic function \"num_devices\":\n",
       "num_devices(p::OpenCL.cl.Program) at /Users/davidhiggins/.julia/v0.5/OpenCL/src/program.jl:97\n",
       "num_devices(ctx::OpenCL.cl.Context) at /Users/davidhiggins/.julia/v0.5/OpenCL/src/context.jl:217\n",
       "```\n"
      ]
     },
     "execution_count": 12,
     "metadata": {},
     "output_type": "execute_result"
    }
   ],
   "source": [
    "?cl.num_devices"
   ]
  },
  {
   "cell_type": "code",
   "execution_count": 13,
   "metadata": {
    "collapsed": false
   },
   "outputs": [
    {
     "data": {
      "text/plain": [
       "(2,)"
      ]
     },
     "execution_count": 13,
     "metadata": {},
     "output_type": "execute_result"
    }
   ],
   "source": [
    "size(cl.devices())"
   ]
  },
  {
   "cell_type": "code",
   "execution_count": 14,
   "metadata": {
    "collapsed": false
   },
   "outputs": [
    {
     "data": {
      "text/plain": [
       "2"
      ]
     },
     "execution_count": 14,
     "metadata": {},
     "output_type": "execute_result"
    }
   ],
   "source": [
    "length(cl.devices())"
   ]
  },
  {
   "cell_type": "code",
   "execution_count": 23,
   "metadata": {
    "collapsed": false
   },
   "outputs": [
    {
     "ename": "LoadError",
     "evalue": "UndefVarError: testcontext not defined",
     "output_type": "error",
     "traceback": [
      "UndefVarError: testcontext not defined",
      ""
     ]
    }
   ],
   "source": [
    "cl.testcontext()"
   ]
  },
  {
   "cell_type": "code",
   "execution_count": 24,
   "metadata": {
    "collapsed": false
   },
   "outputs": [
    {
     "data": {
      "text/markdown": [
       "No documentation found.\n",
       "\n",
       "**Summary:**\n",
       "\n",
       "```\n",
       "immutable OpenCL.cl.Platform <: OpenCL.cl.CLObject\n",
       "```\n",
       "\n",
       "**Fields:**\n",
       "\n",
       "```\n",
       "id :: Ptr{Void}\n",
       "```\n"
      ],
      "text/plain": [
       "No documentation found.\n",
       "\n",
       "**Summary:**\n",
       "\n",
       "```\n",
       "immutable OpenCL.cl.Platform <: OpenCL.cl.CLObject\n",
       "```\n",
       "\n",
       "**Fields:**\n",
       "\n",
       "```\n",
       "id :: Ptr{Void}\n",
       "```\n"
      ]
     },
     "execution_count": 24,
     "metadata": {},
     "output_type": "execute_result"
    }
   ],
   "source": [
    "?cl.Platform"
   ]
  },
  {
   "cell_type": "code",
   "execution_count": 33,
   "metadata": {
    "collapsed": false
   },
   "outputs": [
    {
     "data": {
      "text/plain": [
       "OpenCL.Platform('Apple' @0x0000000000000000)"
      ]
     },
     "execution_count": 33,
     "metadata": {},
     "output_type": "execute_result"
    }
   ],
   "source": [
    "set_platform()"
   ]
  },
  {
   "cell_type": "code",
   "execution_count": 31,
   "metadata": {
    "collapsed": false
   },
   "outputs": [
    {
     "data": {
      "text/plain": [
       "OpenCL.Platform('Apple' @0x0000000000000000)"
      ]
     },
     "execution_count": 31,
     "metadata": {},
     "output_type": "execute_result"
    }
   ],
   "source": [
    "cl.Platform(0)"
   ]
  },
  {
   "cell_type": "code",
   "execution_count": 41,
   "metadata": {
    "collapsed": false
   },
   "outputs": [
    {
     "data": {
      "text/plain": [
       "OpenCL.Context(@0x00007f9cd8f60640 on Intel(R) Core(TM) i7-4650U CPU @ 1.70GHz)"
      ]
     },
     "execution_count": 41,
     "metadata": {},
     "output_type": "execute_result"
    }
   ],
   "source": [
    "cl.Context(cl.devices()[1])"
   ]
  },
  {
   "cell_type": "code",
   "execution_count": 51,
   "metadata": {
    "collapsed": false
   },
   "outputs": [
    {
     "ename": "LoadError",
     "evalue": "BoundsError: attempt to access 2-element Array{OpenCL.cl.Device,1} at index [3]",
     "output_type": "error",
     "traceback": [
      "BoundsError: attempt to access 2-element Array{OpenCL.cl.Device,1} at index [3]",
      "",
      " in set_device at ./In[43]:2 [inlined]",
      " in set_device(::Int64) at ./In[43]:8"
     ]
    }
   ],
   "source": [
    "set_device(3,)"
   ]
  },
  {
   "cell_type": "code",
   "execution_count": 53,
   "metadata": {
    "collapsed": false
   },
   "outputs": [
    {
     "ename": "LoadError",
     "evalue": "syntax: missing comma or ) in argument list",
     "output_type": "error",
     "traceback": [
      "syntax: missing comma or ) in argument list",
      ""
     ]
    }
   ],
   "source": [
    "function print_cl_errstring(cl_int err)\n",
    "    switch (err)\n",
    "        case CL_SUCCESS:                          return strdup(\"Success!\");\n",
    "        case CL_DEVICE_NOT_FOUND:                 return strdup(\"Device not found.\");\n",
    "        case CL_DEVICE_NOT_AVAILABLE:             return strdup(\"Device not available\");\n",
    "        case CL_COMPILER_NOT_AVAILABLE:           return strdup(\"Compiler not available\");\n",
    "        case CL_MEM_OBJECT_ALLOCATION_FAILURE:    return strdup(\"Memory object allocation failure\");\n",
    "        case CL_OUT_OF_RESOURCES:                 return strdup(\"Out of resources\");\n",
    "        case CL_OUT_OF_HOST_MEMORY:               return strdup(\"Out of host memory\");\n",
    "        case CL_PROFILING_INFO_NOT_AVAILABLE:     return strdup(\"Profiling information not available\");\n",
    "        case CL_MEM_COPY_OVERLAP:                 return strdup(\"Memory copy overlap\");\n",
    "        case CL_IMAGE_FORMAT_MISMATCH:            return strdup(\"Image format mismatch\");\n",
    "        case CL_IMAGE_FORMAT_NOT_SUPPORTED:       return strdup(\"Image format not supported\");\n",
    "        case CL_BUILD_PROGRAM_FAILURE:            return strdup(\"Program build failure\");\n",
    "        case CL_MAP_FAILURE:                      return strdup(\"Map failure\");\n",
    "        case CL_INVALID_VALUE:                    return strdup(\"Invalid value\");\n",
    "        case CL_INVALID_DEVICE_TYPE:              return strdup(\"Invalid device type\");\n",
    "        case CL_INVALID_PLATFORM:                 return strdup(\"Invalid platform\");\n",
    "        case CL_INVALID_DEVICE:                   return strdup(\"Invalid device\");\n",
    "        case CL_INVALID_CONTEXT:                  return strdup(\"Invalid context\");\n",
    "        case CL_INVALID_QUEUE_PROPERTIES:         return strdup(\"Invalid queue properties\");\n",
    "        case CL_INVALID_COMMAND_QUEUE:            return strdup(\"Invalid command queue\");\n",
    "        case CL_INVALID_HOST_PTR:                 return strdup(\"Invalid host pointer\");\n",
    "        case CL_INVALID_MEM_OBJECT:               return strdup(\"Invalid memory object\");\n",
    "        case CL_INVALID_IMAGE_FORMAT_DESCRIPTOR:  return strdup(\"Invalid image format descriptor\");\n",
    "        case CL_INVALID_IMAGE_SIZE:               return strdup(\"Invalid image size\");\n",
    "        case CL_INVALID_SAMPLER:                  return strdup(\"Invalid sampler\");\n",
    "        case CL_INVALID_BINARY:                   return strdup(\"Invalid binary\");\n",
    "        case CL_INVALID_BUILD_OPTIONS:            return strdup(\"Invalid build options\");\n",
    "        case CL_INVALID_PROGRAM:                  return strdup(\"Invalid program\");\n",
    "        case CL_INVALID_PROGRAM_EXECUTABLE:       return strdup(\"Invalid program executable\");\n",
    "        case CL_INVALID_KERNEL_NAME:              return strdup(\"Invalid kernel name\");\n",
    "        case CL_INVALID_KERNEL_DEFINITION:        return strdup(\"Invalid kernel definition\");\n",
    "        case CL_INVALID_KERNEL:                   return strdup(\"Invalid kernel\");\n",
    "        case CL_INVALID_ARG_INDEX:                return strdup(\"Invalid argument index\");\n",
    "        case CL_INVALID_ARG_VALUE:                return strdup(\"Invalid argument value\");\n",
    "        case CL_INVALID_ARG_SIZE:                 return strdup(\"Invalid argument size\");\n",
    "        case CL_INVALID_KERNEL_ARGS:              return strdup(\"Invalid kernel arguments\");\n",
    "        case CL_INVALID_WORK_DIMENSION:           return strdup(\"Invalid work dimension\");\n",
    "        case CL_INVALID_WORK_GROUP_SIZE:          return strdup(\"Invalid work group size\");\n",
    "        case CL_INVALID_WORK_ITEM_SIZE:           return strdup(\"Invalid work item size\");\n",
    "        case CL_INVALID_GLOBAL_OFFSET:            return strdup(\"Invalid global offset\");\n",
    "        case CL_INVALID_EVENT_WAIT_LIST:          return strdup(\"Invalid event wait list\");\n",
    "        case CL_INVALID_EVENT:                    return strdup(\"Invalid event\");\n",
    "        case CL_INVALID_OPERATION:                return strdup(\"Invalid operation\");\n",
    "        case CL_INVALID_GL_OBJECT:                return strdup(\"Invalid OpenGL object\");\n",
    "        case CL_INVALID_BUFFER_SIZE:              return strdup(\"Invalid buffer size\");\n",
    "        case CL_INVALID_MIP_LEVEL:                return strdup(\"Invalid mip-map level\");\n",
    "        default:                                  return strdup(\"Unknown\");\n",
    "    end\n",
    "end"
   ]
  },
  {
   "cell_type": "code",
   "execution_count": 55,
   "metadata": {
    "collapsed": false
   },
   "outputs": [
    {
     "ename": "LoadError",
     "evalue": "UndefVarError: CL_INVALID_WORK_DIMENSION not defined",
     "output_type": "error",
     "traceback": [
      "UndefVarError: CL_INVALID_WORK_DIMENSION not defined",
      ""
     ]
    }
   ],
   "source": [
    "cl.error_description(CL_INVALID_WORK_DIMENSION)"
   ]
  },
  {
   "cell_type": "code",
   "execution_count": 60,
   "metadata": {
    "collapsed": false
   },
   "outputs": [
    {
     "data": {
      "text/plain": [
       "CLError(code=0, CL_SUCCESS)"
      ]
     },
     "execution_count": 60,
     "metadata": {},
     "output_type": "execute_result"
    }
   ],
   "source": [
    "cl.CLError(0)"
   ]
  },
  {
   "cell_type": "code",
   "execution_count": null,
   "metadata": {
    "collapsed": true
   },
   "outputs": [],
   "source": [
    "function ()"
   ]
  }
 ],
 "metadata": {
  "kernelspec": {
   "display_name": "Julia 0.5.0",
   "language": "julia",
   "name": "julia-0.5"
  },
  "language_info": {
   "file_extension": ".jl",
   "mimetype": "application/julia",
   "name": "julia",
   "version": "0.5.0"
  }
 },
 "nbformat": 4,
 "nbformat_minor": 2
}
