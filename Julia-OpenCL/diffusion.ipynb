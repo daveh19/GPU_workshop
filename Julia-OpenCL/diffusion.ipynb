{
 "cells": [
  {
   "cell_type": "code",
   "execution_count": 1,
   "metadata": {
    "collapsed": false,
    "scrolled": true
   },
   "outputs": [
    {
     "name": "stdout",
     "output_type": "stream",
     "text": [
      "Julia Version 0.5.0\n",
      "Commit 3c9d753 (2016-09-19 18:14 UTC)\n",
      "Platform Info:\n",
      "  System: Darwin (x86_64-apple-darwin13.4.0)\n",
      "  CPU: Intel(R) Core(TM) i7-4870HQ CPU @ 2.50GHz\n",
      "  WORD_SIZE: 64\n",
      "  BLAS: libopenblas (USE64BITINT DYNAMIC_ARCH NO_AFFINITY Haswell)\n",
      "  LAPACK: libopenblas64_\n",
      "  LIBM: libopenlibm\n",
      "  LLVM: libLLVM-3.7.1 (ORCJIT, haswell)\n"
     ]
    }
   ],
   "source": [
    "versioninfo()"
   ]
  },
  {
   "cell_type": "code",
   "execution_count": 2,
   "metadata": {
    "collapsed": true
   },
   "outputs": [],
   "source": [
    "using OpenCL\n",
    "using Gadfly"
   ]
  },
  {
   "cell_type": "code",
   "execution_count": 3,
   "metadata": {
    "collapsed": false
   },
   "outputs": [],
   "source": [
    "diff_kernel = \"\n",
    "inline int xy_to_i(int x, int y, int col_size, int mesh_size) {\n",
    "    return (x % col_size) + (y % col_size) * col_size; \n",
    "}\n",
    "\n",
    "__kernel void diff(__global const float *a,\n",
    "__global float *diff,\n",
    "int col_size,\n",
    "int mesh_size)\n",
    "    {\n",
    "      int gid = get_global_id(0);\n",
    "    int x_idx = gid % col_size;\n",
    "    int y_idx = gid / col_size;\n",
    "    \n",
    "    diff[gid] = - 4. * a[gid]\n",
    "    + a[xy_to_i(x_idx - 1, y_idx, col_size, mesh_size)]\n",
    "    + a[xy_to_i(x_idx + 1, y_idx, col_size, mesh_size)]\n",
    "    + a[xy_to_i(x_idx, y_idx - 1, col_size, mesh_size)]\n",
    "    + a[xy_to_i(x_idx, y_idx + 1, col_size, mesh_size)];\n",
    "    }\n",
    "\";"
   ]
  },
  {
   "cell_type": "code",
   "execution_count": 4,
   "metadata": {
    "collapsed": false
   },
   "outputs": [],
   "source": [
    "sum_kernel = \"\n",
    "   __kernel void sum(__global float *a,\n",
    "__global const float *diff,\n",
    "float step_size)\n",
    "    {\n",
    "      int gid = get_global_id(0);\n",
    "    a[gid] += step_size * diff[gid];\n",
    "    }\n",
    "\";"
   ]
  },
  {
   "cell_type": "code",
   "execution_count": 5,
   "metadata": {
    "collapsed": false
   },
   "outputs": [
    {
     "data": {
      "text/plain": [
       "initial_cond (generic function with 1 method)"
      ]
     },
     "execution_count": 5,
     "metadata": {},
     "output_type": "execute_result"
    }
   ],
   "source": [
    "function initial_cond()\n",
    "    a = zeros(Float32, (5000, 5000))\n",
    "    a[Int(size(a)[1] / 2), Int(size(a)[2] / 2)] = 10\n",
    "    return a\n",
    "end"
   ]
  },
  {
   "cell_type": "code",
   "execution_count": 12,
   "metadata": {
    "collapsed": false
   },
   "outputs": [
    {
     "name": "stderr",
     "output_type": "stream",
     "text": [
      "WARNING: Method definition do_openCL(Any) in module Main at In[10]:4 overwritten at In[12]:4.\n"
     ]
    },
    {
     "data": {
      "text/plain": [
       "do_openCL (generic function with 1 method)"
      ]
     },
     "execution_count": 12,
     "metadata": {},
     "output_type": "execute_result"
    }
   ],
   "source": [
    "function do_openCL(input)\n",
    "#    device, ctx, queue = cl.create_compute_context()\n",
    "#    print(device, ctx, queue)\n",
    "    ctx    = cl.Context(cl.devices()[3])\n",
    "    device = cl.devices(ctx)\n",
    "    queue  = cl.CmdQueue(ctx)\n",
    "    print(ctx, device, queue)\n",
    "\n",
    "    input_buff = cl.Buffer(Float32, ctx, (:rw, :copy), hostbuf=input)\n",
    "    diff_buff = cl.Buffer(Float32, ctx, :rw, length(input))\n",
    "\n",
    "    diff_p = cl.Program(ctx, source=diff_kernel) |> cl.build!\n",
    "    diff_k = cl.Kernel(diff_p, \"diff\")\n",
    "\n",
    "    sum_p = cl.Program(ctx, source=sum_kernel) |> cl.build!\n",
    "    sum_k = cl.Kernel(sum_p, \"sum\")\n",
    "\n",
    "    step_size = 0.001\n",
    "\n",
    "    for i in 1:1000\n",
    "        queue(diff_k, length(input), nothing, input_buff, diff_buff, size(input)[1], length(input))\n",
    "        queue(sum_k, length(input), nothing, input_buff, diff_buff, Float32(step_size))\n",
    "    end\n",
    "    r = cl.read(queue, input_buff);\n",
    "    r = reshape(r, size(input))\n",
    "    return r\n",
    "end\n"
   ]
  },
  {
   "cell_type": "code",
   "execution_count": 13,
   "metadata": {
    "collapsed": false
   },
   "outputs": [
    {
     "name": "stdout",
     "output_type": "stream",
     "text": [
      "OpenCL.Context(@0x00007fce5a9e5950 on AMD Radeon R9 M370X Compute Engine)OpenCL.cl.Device[OpenCL.Device(AMD Radeon R9 M370X Compute Engine on Apple @0x0000000001021c00)]OpenCL.CmdQueue(@0x00007fce5a95b860) 25.156822 seconds (109.65 k allocations: 194.293 MB, 0.51% gc time)\n"
     ]
    },
    {
     "data": {
      "text/plain": [
       "5000×5000 Array{Float32,2}:\n",
       " 0.0  0.0  0.0  0.0  0.0  0.0  0.0  0.0  …  0.0  0.0  0.0  0.0  0.0  0.0  0.0\n",
       " 0.0  0.0  0.0  0.0  0.0  0.0  0.0  0.0     0.0  0.0  0.0  0.0  0.0  0.0  0.0\n",
       " 0.0  0.0  0.0  0.0  0.0  0.0  0.0  0.0     0.0  0.0  0.0  0.0  0.0  0.0  0.0\n",
       " 0.0  0.0  0.0  0.0  0.0  0.0  0.0  0.0     0.0  0.0  0.0  0.0  0.0  0.0  0.0\n",
       " 0.0  0.0  0.0  0.0  0.0  0.0  0.0  0.0     0.0  0.0  0.0  0.0  0.0  0.0  0.0\n",
       " 0.0  0.0  0.0  0.0  0.0  0.0  0.0  0.0  …  0.0  0.0  0.0  0.0  0.0  0.0  0.0\n",
       " 0.0  0.0  0.0  0.0  0.0  0.0  0.0  0.0     0.0  0.0  0.0  0.0  0.0  0.0  0.0\n",
       " 0.0  0.0  0.0  0.0  0.0  0.0  0.0  0.0     0.0  0.0  0.0  0.0  0.0  0.0  0.0\n",
       " 0.0  0.0  0.0  0.0  0.0  0.0  0.0  0.0     0.0  0.0  0.0  0.0  0.0  0.0  0.0\n",
       " 0.0  0.0  0.0  0.0  0.0  0.0  0.0  0.0     0.0  0.0  0.0  0.0  0.0  0.0  0.0\n",
       " 0.0  0.0  0.0  0.0  0.0  0.0  0.0  0.0  …  0.0  0.0  0.0  0.0  0.0  0.0  0.0\n",
       " 0.0  0.0  0.0  0.0  0.0  0.0  0.0  0.0     0.0  0.0  0.0  0.0  0.0  0.0  0.0\n",
       " 0.0  0.0  0.0  0.0  0.0  0.0  0.0  0.0     0.0  0.0  0.0  0.0  0.0  0.0  0.0\n",
       " ⋮                        ⋮              ⋱            ⋮                      \n",
       " 0.0  0.0  0.0  0.0  0.0  0.0  0.0  0.0     0.0  0.0  0.0  0.0  0.0  0.0  0.0\n",
       " 0.0  0.0  0.0  0.0  0.0  0.0  0.0  0.0     0.0  0.0  0.0  0.0  0.0  0.0  0.0\n",
       " 0.0  0.0  0.0  0.0  0.0  0.0  0.0  0.0  …  0.0  0.0  0.0  0.0  0.0  0.0  0.0\n",
       " 0.0  0.0  0.0  0.0  0.0  0.0  0.0  0.0     0.0  0.0  0.0  0.0  0.0  0.0  0.0\n",
       " 0.0  0.0  0.0  0.0  0.0  0.0  0.0  0.0     0.0  0.0  0.0  0.0  0.0  0.0  0.0\n",
       " 0.0  0.0  0.0  0.0  0.0  0.0  0.0  0.0     0.0  0.0  0.0  0.0  0.0  0.0  0.0\n",
       " 0.0  0.0  0.0  0.0  0.0  0.0  0.0  0.0     0.0  0.0  0.0  0.0  0.0  0.0  0.0\n",
       " 0.0  0.0  0.0  0.0  0.0  0.0  0.0  0.0  …  0.0  0.0  0.0  0.0  0.0  0.0  0.0\n",
       " 0.0  0.0  0.0  0.0  0.0  0.0  0.0  0.0     0.0  0.0  0.0  0.0  0.0  0.0  0.0\n",
       " 0.0  0.0  0.0  0.0  0.0  0.0  0.0  0.0     0.0  0.0  0.0  0.0  0.0  0.0  0.0\n",
       " 0.0  0.0  0.0  0.0  0.0  0.0  0.0  0.0     0.0  0.0  0.0  0.0  0.0  0.0  0.0\n",
       " 0.0  0.0  0.0  0.0  0.0  0.0  0.0  0.0     0.0  0.0  0.0  0.0  0.0  0.0  0.0"
      ]
     },
     "execution_count": 13,
     "metadata": {},
     "output_type": "execute_result"
    }
   ],
   "source": [
    "@time do_openCL(initial_cond())"
   ]
  },
  {
   "cell_type": "code",
   "execution_count": null,
   "metadata": {
    "collapsed": false
   },
   "outputs": [],
   "source": [
    "cl.devices(cl.create_some_context())"
   ]
  },
  {
   "cell_type": "code",
   "execution_count": null,
   "metadata": {
    "collapsed": false
   },
   "outputs": [],
   "source": [
    "cl.platforms()"
   ]
  },
  {
   "cell_type": "code",
   "execution_count": null,
   "metadata": {
    "collapsed": false
   },
   "outputs": [],
   "source": [
    "cl.Context(cl.devices()[3])"
   ]
  },
  {
   "cell_type": "code",
   "execution_count": null,
   "metadata": {
    "collapsed": false
   },
   "outputs": [],
   "source": [
    "function diff_step(input, output)\n",
    "    maxX, maxY = size(input)\n",
    "    for iter in eachindex(input)\n",
    "        x, y = ind2sub(input, iter)\n",
    "        output[iter] = - 4. * input[iter] + input[x, y - 1 == 0 ? maxY : y - 1] + \n",
    "        input[x, y + 1 > maxY ? 1 : y + 1] +\n",
    "        input[x - 1 == 0 ? maxX : x - 1, y] +\n",
    "        input[x + 1 > maxX ? 1 : x + 1, y]\n",
    "    end\n",
    "    return output\n",
    "end"
   ]
  },
  {
   "cell_type": "code",
   "execution_count": null,
   "metadata": {
    "collapsed": false
   },
   "outputs": [],
   "source": [
    "function sum_step(input, diff, step_size)\n",
    "    return input + (step_size * diff)\n",
    "end\n",
    "    "
   ]
  },
  {
   "cell_type": "code",
   "execution_count": null,
   "metadata": {
    "collapsed": false
   },
   "outputs": [],
   "source": [
    "function do_naive(input)\n",
    "    step_size = 0.001\n",
    "\n",
    "    diff = similar(input)\n",
    "    for i in 1:10000\n",
    "        diff = diff_step(input, diff)\n",
    "        input = sum_step(input, diff, step_size)\n",
    "    end\n",
    "    return input\n",
    "end"
   ]
  },
  {
   "cell_type": "code",
   "execution_count": null,
   "metadata": {
    "collapsed": false
   },
   "outputs": [],
   "source": [
    "res = do_naive(initial_cond())"
   ]
  },
  {
   "cell_type": "code",
   "execution_count": null,
   "metadata": {
    "collapsed": false
   },
   "outputs": [],
   "source": [
    "@time do_openCL(initial_cond())"
   ]
  },
  {
   "cell_type": "code",
   "execution_count": null,
   "metadata": {
    "collapsed": false
   },
   "outputs": [],
   "source": [
    "@time do_naive(initial_cond())"
   ]
  },
  {
   "cell_type": "code",
   "execution_count": null,
   "metadata": {
    "collapsed": false
   },
   "outputs": [],
   "source": [
    "cl.devices()"
   ]
  },
  {
   "cell_type": "code",
   "execution_count": null,
   "metadata": {
    "collapsed": false
   },
   "outputs": [],
   "source": [
    "Pkg.add('PyPlot')"
   ]
  },
  {
   "cell_type": "code",
   "execution_count": null,
   "metadata": {
    "collapsed": false
   },
   "outputs": [],
   "source": [
    "initial_cond()[1,2]"
   ]
  },
  {
   "cell_type": "code",
   "execution_count": null,
   "metadata": {
    "collapsed": true
   },
   "outputs": [],
   "source": []
  }
 ],
 "metadata": {
  "anaconda-cloud": {},
  "kernelspec": {
   "display_name": "Julia 0.5.0",
   "language": "julia",
   "name": "julia-0.5"
  },
  "language_info": {
   "file_extension": ".jl",
   "mimetype": "application/julia",
   "name": "julia",
   "version": "0.5.0"
  }
 },
 "nbformat": 4,
 "nbformat_minor": 1
}
