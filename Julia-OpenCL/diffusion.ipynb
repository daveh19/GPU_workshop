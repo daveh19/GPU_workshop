{
 "cells": [
  {
   "cell_type": "code",
   "execution_count": 1,
   "metadata": {
    "collapsed": false
   },
   "outputs": [
    {
     "name": "stdout",
     "output_type": "stream",
     "text": [
      "Julia Version 0.5.0\n",
      "Commit 3c9d753 (2016-09-19 18:14 UTC)\n",
      "Platform Info:\n",
      "  System: Darwin (x86_64-apple-darwin13.4.0)\n",
      "  CPU: Intel(R) Core(TM) i7-4870HQ CPU @ 2.50GHz\n",
      "  WORD_SIZE: 64\n",
      "  BLAS: libopenblas (USE64BITINT DYNAMIC_ARCH NO_AFFINITY Haswell)\n",
      "  LAPACK: libopenblas64_\n",
      "  LIBM: libopenlibm\n",
      "  LLVM: libLLVM-3.7.1 (ORCJIT, haswell)\n"
     ]
    }
   ],
   "source": [
    "versioninfo()"
   ]
  },
  {
   "cell_type": "code",
   "execution_count": 2,
   "metadata": {
    "collapsed": true
   },
   "outputs": [],
   "source": [
    "using OpenCL\n",
    "using Gadfly"
   ]
  },
  {
   "cell_type": "code",
   "execution_count": 3,
   "metadata": {
    "collapsed": false
   },
   "outputs": [],
   "source": [
    "diff_kernel = \"\n",
    "__kernel void diff(__global const float *a,\n",
    "__global float *diff,\n",
    "int mesh_size)\n",
    "    {\n",
    "      int gid = get_global_id(0);\n",
    "    diff[gid] = - 2. * a[gid] + a[(gid - 1) % mesh_size] + a[(gid + 1) % mesh_size];\n",
    "    }\n",
    "\";"
   ]
  },
  {
   "cell_type": "code",
   "execution_count": 4,
   "metadata": {
    "collapsed": false
   },
   "outputs": [],
   "source": [
    "sum_kernel = \"\n",
    "   __kernel void sum(__global float *a,\n",
    "__global const float *diff,\n",
    "float step_size)\n",
    "    {\n",
    "      int gid = get_global_id(0);\n",
    "    a[gid] += step_size * diff[gid];\n",
    "    }\n",
    "\";"
   ]
  },
  {
   "cell_type": "code",
   "execution_count": 5,
   "metadata": {
    "collapsed": false
   },
   "outputs": [
    {
     "data": {
      "text/plain": [
       "initial_cond (generic function with 1 method)"
      ]
     },
     "execution_count": 5,
     "metadata": {},
     "output_type": "execute_result"
    }
   ],
   "source": [
    "function initial_cond()\n",
    "    a = zeros(Float32, (5000, 5000))\n",
    "    a[Int(size(a)[1] / 2), Int(size(a)[2] / 2)] = 10\n",
    "    return a\n",
    "end"
   ]
  },
  {
   "cell_type": "code",
   "execution_count": 6,
   "metadata": {
    "collapsed": false
   },
   "outputs": [
    {
     "ename": "LoadError",
     "evalue": "UndefVarError: a not defined",
     "output_type": "error",
     "traceback": [
      "UndefVarError: a not defined",
      ""
     ]
    }
   ],
   "source": [
    "device, ctx, queue = cl.create_compute_context()\n",
    "\n",
    "a_buff = cl.Buffer(Float32, ctx, (:rw, :copy), hostbuf=a)\n",
    "diff_buff = cl.Buffer(Float32, ctx, :rw, length(a))\n",
    "\n",
    "diff_p = cl.Program(ctx, source=diff_kernel) |> cl.build!\n",
    "diff_k = cl.Kernel(diff_p, \"diff\")\n",
    "\n",
    "sum_p = cl.Program(ctx, source=sum_kernel) |> cl.build!\n",
    "sum_k = cl.Kernel(sum_p, \"sum\")\n",
    "\n",
    "step_size = 0.01\n",
    "\n",
    "for i in 1:10000\n",
    "    queue(diff_k, size(a), nothing, a_buff, diff_buff, size(a)[1], length(a))\n",
    "    queue(sum_k, size(a), nothing, a_buff, diff_buff, Float32(step_size))\n",
    "end\n",
    "r = cl.read(queue, a_buff);\n"
   ]
  },
  {
   "cell_type": "code",
   "execution_count": null,
   "metadata": {
    "collapsed": false
   },
   "outputs": [],
   "source": [
    "r[2498:2502]"
   ]
  },
  {
   "cell_type": "code",
   "execution_count": null,
   "metadata": {
    "collapsed": false
   },
   "outputs": [],
   "source": [
    "plot(x=1:length(a), y=r, Geom.line)"
   ]
  },
  {
   "cell_type": "code",
   "execution_count": null,
   "metadata": {
    "collapsed": false
   },
   "outputs": [],
   "source": [
    "a"
   ]
  },
  {
   "cell_type": "code",
   "execution_count": null,
   "metadata": {
    "collapsed": true
   },
   "outputs": [],
   "source": []
  }
 ],
 "metadata": {
  "anaconda-cloud": {},
  "kernelspec": {
   "display_name": "Julia 0.5.0",
   "language": "julia",
   "name": "julia-0.5"
  },
  "language_info": {
   "file_extension": ".jl",
   "mimetype": "application/julia",
   "name": "julia",
   "version": "0.5.0"
  }
 },
 "nbformat": 4,
 "nbformat_minor": 1
}
