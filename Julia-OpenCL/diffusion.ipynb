{
 "cells": [
  {
   "cell_type": "markdown",
   "metadata": {
    "deletable": true,
    "editable": true,
    "slideshow": {
     "slide_type": "slide"
    }
   },
   "source": [
    "# Julia OpenCL"
   ]
  },
  {
   "cell_type": "code",
   "execution_count": 1,
   "metadata": {
    "collapsed": false,
    "deletable": true,
    "editable": true
   },
   "outputs": [
    {
     "name": "stdout",
     "output_type": "stream",
     "text": [
      "Julia Version 0.5.1\n",
      "Commit 6445c82 (2017-03-05 13:25 UTC)\n",
      "Platform Info:\n",
      "  OS: Linux (x86_64-pc-linux-gnu)\n",
      "  CPU: Intel Xeon E312xx (Sandy Bridge)\n",
      "  WORD_SIZE: 64\n",
      "  BLAS: libopenblas (USE64BITINT DYNAMIC_ARCH NO_AFFINITY Sandybridge)\n",
      "  LAPACK: libopenblas64_\n",
      "  LIBM: libopenlibm\n",
      "  LLVM: libLLVM-3.7.1 (ORCJIT, sandybridge)\n"
     ]
    }
   ],
   "source": [
    "versioninfo()"
   ]
  },
  {
   "cell_type": "markdown",
   "metadata": {
    "deletable": true,
    "editable": true,
    "slideshow": {
     "slide_type": "-"
    }
   },
   "source": [
    "In this notebook we will look at implementing a diffusion equation in Julia, first in native terms and then using Julia’s OpenCL bindings."
   ]
  },
  {
   "cell_type": "markdown",
   "metadata": {
    "deletable": true,
    "editable": true
   },
   "source": [
    "## A note on multi-dimensional arrays\n",
    "\n",
    "Julia’s multi-dimensional arrays are stored in column-major order (and indexed starting at 1) just like Fortran, whereas array handling in OpenCL are stored in row-major order"
   ]
  },
  {
   "cell_type": "markdown",
   "metadata": {
    "deletable": true,
    "editable": true
   },
   "source": [
    "## The heat equation\n",
    "The first system that we want to investigate is the heat or diffusion equation, it is given by the following differential equation:\n",
    "\n",
    "\\begin{align}\n",
    "  \\frac{\\partial}{\\partial t}u - \\alpha \\nabla^2u &= 0\n",
    "\\end{align}\n"
   ]
  },
  {
   "cell_type": "markdown",
   "metadata": {
    "deletable": true,
    "editable": true
   },
   "source": [
    "In order for Julia’s JIT optimiser to work properly, every calculation should be wrapped inside a function for maximum speed."
   ]
  },
  {
   "cell_type": "markdown",
   "metadata": {
    "deletable": true,
    "editable": true
   },
   "source": [
    "We start with our initial state. For simplicity, we’ll take a rectangular matrix of zeros and fix the centre at a value of 10."
   ]
  },
  {
   "cell_type": "code",
   "execution_count": 2,
   "metadata": {
    "collapsed": false,
    "deletable": true,
    "editable": true
   },
   "outputs": [
    {
     "data": {
      "text/plain": [
       "initial_state"
      ]
     },
     "execution_count": 2,
     "metadata": {},
     "output_type": "execute_result"
    }
   ],
   "source": [
    "\"\"\" Returns the initial state. \"\"\"\n",
    "function initial_state(height, width)\n",
    "    initial = zeros(Float32, height, width)\n",
    "    # Pick the center\n",
    "    # Since Julia starts indexing with 1, we use cls to divide and round up\n",
    "    initial[cld(height, 2), cld(width, 2)] = 10.0\n",
    "    initial\n",
    "end    "
   ]
  },
  {
   "cell_type": "code",
   "execution_count": 3,
   "metadata": {
    "collapsed": false,
    "deletable": true,
    "editable": true
   },
   "outputs": [
    {
     "data": {
      "text/plain": [
       "5×5 Array{Float32,2}:\n",
       " 0.0  0.0   0.0  0.0  0.0\n",
       " 0.0  0.0   0.0  0.0  0.0\n",
       " 0.0  0.0  10.0  0.0  0.0\n",
       " 0.0  0.0   0.0  0.0  0.0\n",
       " 0.0  0.0   0.0  0.0  0.0"
      ]
     },
     "execution_count": 3,
     "metadata": {},
     "output_type": "execute_result"
    }
   ],
   "source": [
    "# example\n",
    "initial_state(5, 5)"
   ]
  },
  {
   "cell_type": "markdown",
   "metadata": {},
   "source": [
    "We use a two-step algorithm. First we iterate through the initial matrix, take the first-order laplacian of each point and copy this to a matrix of the same size"
   ]
  },
  {
   "cell_type": "code",
   "execution_count": 4,
   "metadata": {
    "collapsed": false,
    "deletable": true,
    "editable": true
   },
   "outputs": [
    {
     "data": {
      "text/plain": [
       "diff_step! (generic function with 1 method)"
      ]
     },
     "execution_count": 4,
     "metadata": {},
     "output_type": "execute_result"
    }
   ],
   "source": [
    "function diff_step!(source, diff)\n",
    "    \n",
    "    # I am pretty sure this can be solved more elegantly\n",
    "    # but by using the CartesianIndex we avoid having to calculate the\n",
    "    # row and col index ourselves.        \n",
    "    neighbors = [(-1, 0), (1, 0), (0, -1), (0, 1)]\n",
    "    neighborsCartesian = map(x -> CartesianIndex{2}(x), neighbors)\n",
    "\n",
    "    for i in CartesianRange(size(source))\n",
    "        diff[i] = - 4 * source[i]\n",
    "        for c in neighborsCartesian\n",
    "            idx = i + c\n",
    "            # need to use mod1 here because of 1-indexing\n",
    "            diff[i] += source[CartesianIndex{2}(mod1(idx.I[1], size(source)[1]), mod1(idx.I[2], size(source)[2]))]\n",
    "        end\n",
    "    end\n",
    "end"
   ]
  },
  {
   "cell_type": "markdown",
   "metadata": {},
   "source": [
    "Afterwards, we multiply the matrix of differences with our step size and add the result to our source matrix."
   ]
  },
  {
   "cell_type": "code",
   "execution_count": 5,
   "metadata": {
    "collapsed": false,
    "deletable": true,
    "editable": true
   },
   "outputs": [
    {
     "data": {
      "text/plain": [
       "add_step! (generic function with 1 method)"
      ]
     },
     "execution_count": 5,
     "metadata": {},
     "output_type": "execute_result"
    }
   ],
   "source": [
    "function add_step!(source, diff, step_size::Float32)\n",
    "    # The dot-operator signifies broadcasting:\n",
    "    # Julia will not create an intermediate array but\n",
    "    # use the equivalent of a for loop to perform\n",
    "    # everything in-place.\n",
    "    source .+= step_size * diff\n",
    "end"
   ]
  },
  {
   "cell_type": "markdown",
   "metadata": {},
   "source": [
    "Now it is just iterating over the number of steps. Note that we also create the diff matrix in advance."
   ]
  },
  {
   "cell_type": "code",
   "execution_count": 6,
   "metadata": {
    "collapsed": false,
    "deletable": true,
    "editable": true
   },
   "outputs": [
    {
     "data": {
      "text/plain": [
       "do_native (generic function with 1 method)"
      ]
     },
     "execution_count": 6,
     "metadata": {},
     "output_type": "execute_result"
    }
   ],
   "source": [
    "function do_native(initial, step_size::Float32, num_steps)\n",
    "    diff = similar(initial)\n",
    "    for s in 1:num_steps\n",
    "        diff_step!(initial, diff)\n",
    "        add_step!(initial, diff, step_size)\n",
    "    end\n",
    "    initial\n",
    "end"
   ]
  },
  {
   "cell_type": "markdown",
   "metadata": {
    "deletable": true,
    "editable": true
   },
   "source": [
    "Now, let’s print the result after 100 steps."
   ]
  },
  {
   "cell_type": "code",
   "execution_count": 7,
   "metadata": {
    "collapsed": false,
    "deletable": true,
    "editable": true
   },
   "outputs": [
    {
     "name": "stdout",
     "output_type": "stream",
     "text": [
      "  3.696194 seconds (226.01 k allocations: 201.274 MB, 0.55% gc time)\n"
     ]
    },
    {
     "data": {
      "text/plain": [
       "500×500 Array{Float32,2}:\n",
       " 0.0  0.0  0.0  0.0  0.0  0.0  0.0  0.0  …  0.0  0.0  0.0  0.0  0.0  0.0  0.0\n",
       " 0.0  0.0  0.0  0.0  0.0  0.0  0.0  0.0     0.0  0.0  0.0  0.0  0.0  0.0  0.0\n",
       " 0.0  0.0  0.0  0.0  0.0  0.0  0.0  0.0     0.0  0.0  0.0  0.0  0.0  0.0  0.0\n",
       " 0.0  0.0  0.0  0.0  0.0  0.0  0.0  0.0     0.0  0.0  0.0  0.0  0.0  0.0  0.0\n",
       " 0.0  0.0  0.0  0.0  0.0  0.0  0.0  0.0     0.0  0.0  0.0  0.0  0.0  0.0  0.0\n",
       " 0.0  0.0  0.0  0.0  0.0  0.0  0.0  0.0  …  0.0  0.0  0.0  0.0  0.0  0.0  0.0\n",
       " 0.0  0.0  0.0  0.0  0.0  0.0  0.0  0.0     0.0  0.0  0.0  0.0  0.0  0.0  0.0\n",
       " 0.0  0.0  0.0  0.0  0.0  0.0  0.0  0.0     0.0  0.0  0.0  0.0  0.0  0.0  0.0\n",
       " 0.0  0.0  0.0  0.0  0.0  0.0  0.0  0.0     0.0  0.0  0.0  0.0  0.0  0.0  0.0\n",
       " 0.0  0.0  0.0  0.0  0.0  0.0  0.0  0.0     0.0  0.0  0.0  0.0  0.0  0.0  0.0\n",
       " 0.0  0.0  0.0  0.0  0.0  0.0  0.0  0.0  …  0.0  0.0  0.0  0.0  0.0  0.0  0.0\n",
       " 0.0  0.0  0.0  0.0  0.0  0.0  0.0  0.0     0.0  0.0  0.0  0.0  0.0  0.0  0.0\n",
       " 0.0  0.0  0.0  0.0  0.0  0.0  0.0  0.0     0.0  0.0  0.0  0.0  0.0  0.0  0.0\n",
       " ⋮                        ⋮              ⋱            ⋮                      \n",
       " 0.0  0.0  0.0  0.0  0.0  0.0  0.0  0.0     0.0  0.0  0.0  0.0  0.0  0.0  0.0\n",
       " 0.0  0.0  0.0  0.0  0.0  0.0  0.0  0.0     0.0  0.0  0.0  0.0  0.0  0.0  0.0\n",
       " 0.0  0.0  0.0  0.0  0.0  0.0  0.0  0.0  …  0.0  0.0  0.0  0.0  0.0  0.0  0.0\n",
       " 0.0  0.0  0.0  0.0  0.0  0.0  0.0  0.0     0.0  0.0  0.0  0.0  0.0  0.0  0.0\n",
       " 0.0  0.0  0.0  0.0  0.0  0.0  0.0  0.0     0.0  0.0  0.0  0.0  0.0  0.0  0.0\n",
       " 0.0  0.0  0.0  0.0  0.0  0.0  0.0  0.0     0.0  0.0  0.0  0.0  0.0  0.0  0.0\n",
       " 0.0  0.0  0.0  0.0  0.0  0.0  0.0  0.0     0.0  0.0  0.0  0.0  0.0  0.0  0.0\n",
       " 0.0  0.0  0.0  0.0  0.0  0.0  0.0  0.0  …  0.0  0.0  0.0  0.0  0.0  0.0  0.0\n",
       " 0.0  0.0  0.0  0.0  0.0  0.0  0.0  0.0     0.0  0.0  0.0  0.0  0.0  0.0  0.0\n",
       " 0.0  0.0  0.0  0.0  0.0  0.0  0.0  0.0     0.0  0.0  0.0  0.0  0.0  0.0  0.0\n",
       " 0.0  0.0  0.0  0.0  0.0  0.0  0.0  0.0     0.0  0.0  0.0  0.0  0.0  0.0  0.0\n",
       " 0.0  0.0  0.0  0.0  0.0  0.0  0.0  0.0     0.0  0.0  0.0  0.0  0.0  0.0  0.0"
      ]
     },
     "execution_count": 7,
     "metadata": {},
     "output_type": "execute_result"
    }
   ],
   "source": [
    "init = initial_state(500, 500)\n",
    "@time res = do_native(init, Float32(0.01), 100)"
   ]
  },
  {
   "cell_type": "code",
   "execution_count": 8,
   "metadata": {
    "collapsed": false,
    "deletable": true,
    "editable": true
   },
   "outputs": [],
   "source": [
    "#Pkg.add(\"BenchmarkTools\")\n",
    "using BenchmarkTools"
   ]
  },
  {
   "cell_type": "code",
   "execution_count": 9,
   "metadata": {
    "collapsed": false,
    "deletable": true,
    "editable": true
   },
   "outputs": [
    {
     "data": {
      "text/plain": [
       "BenchmarkTools.Trial: \n",
       "  memory estimate:  191.76 MiB\n",
       "  allocs estimate:  1802\n",
       "  --------------\n",
       "  minimum time:     3.414 s (0.00% GC)\n",
       "  median time:      3.441 s (0.00% GC)\n",
       "  mean time:        3.441 s (0.00% GC)\n",
       "  maximum time:     3.469 s (0.00% GC)\n",
       "  --------------\n",
       "  samples:          2\n",
       "  evals/sample:     1\n",
       "  time tolerance:   5.00%\n",
       "  memory tolerance: 1.00%"
      ]
     },
     "execution_count": 9,
     "metadata": {},
     "output_type": "execute_result"
    }
   ],
   "source": [
    "@benchmark do_native(init, Float32(0.01), 100)"
   ]
  },
  {
   "cell_type": "code",
   "execution_count": 10,
   "metadata": {
    "collapsed": false,
    "deletable": true,
    "editable": true
   },
   "outputs": [],
   "source": [
    "using PyPlot"
   ]
  },
  {
   "cell_type": "code",
   "execution_count": 11,
   "metadata": {
    "collapsed": false
   },
   "outputs": [
    {
     "data": {
      "image/png": "[encoded data removed]",
      "text/plain": [
       "PyPlot.Figure(PyObject <matplotlib.figure.Figure object at 0x7f95c9370f10>)"
      ]
     },
     "metadata": {},
     "output_type": "display_data"
    },
    {
     "data": {
      "text/plain": [
       "PyObject <matplotlib.image.AxesImage object at 0x7f95c9161610>"
      ]
     },
     "execution_count": 11,
     "metadata": {},
     "output_type": "execute_result"
    }
   ],
   "source": [
    "PyPlot.imshow(res)"
   ]
  },
  {
   "cell_type": "markdown",
   "metadata": {},
   "source": [
    "If PyPlot does not work, execute the following:"
   ]
  },
  {
   "cell_type": "code",
   "execution_count": 12,
   "metadata": {
    "collapsed": false
   },
   "outputs": [],
   "source": [
    "#ENV[\"PYTHON\"] = \"\"\n",
    "#Pkg.build(\"PyCall\")"
   ]
  },
  {
   "cell_type": "markdown",
   "metadata": {},
   "source": [
    "## OpenCL"
   ]
  },
  {
   "cell_type": "markdown",
   "metadata": {},
   "source": [
    "First step: import OpenCL and check whether we have devices we can use it on."
   ]
  },
  {
   "cell_type": "code",
   "execution_count": 13,
   "metadata": {
    "collapsed": false,
    "deletable": true,
    "editable": true,
    "nbpresent": {
     "id": "eefab2e2-bcd3-47ea-8fde-47d9d727a03d"
    }
   },
   "outputs": [
    {
     "data": {
      "text/plain": [
       "1-element Array{OpenCL.cl.Device,1}:\n",
       " OpenCL.Device(Intel Xeon E312xx (Sandy Bridge) on Intel(R) OpenCL @0x00000000174ad218)"
      ]
     },
     "execution_count": 13,
     "metadata": {},
     "output_type": "execute_result"
    }
   ],
   "source": [
    "using OpenCL\n",
    "cl.devices()"
   ]
  },
  {
   "cell_type": "code",
   "execution_count": 14,
   "metadata": {
    "collapsed": false,
    "deletable": true,
    "editable": true
   },
   "outputs": [],
   "source": [
    "diff_kernel = \"\"\"\n",
    "__kernel void diff2d(\n",
    "    __global const float *matrix,\n",
    "    __global float *diff)\n",
    "{\n",
    "    int gidx = get_global_id(0);\n",
    "    int gidy = get_global_id(1);\n",
    "    int maxx = get_global_size(0);\n",
    "    int maxy = get_global_size(1);\n",
    "\n",
    "#ifdef __APPLE__\n",
    "    float (*b)[maxy] = (float(*)[maxy]) matrix;\n",
    "    float (*d)[maxx] = (float(*)[maxx]) diff;\n",
    "\n",
    "    d[gidx][gidy] = - 4. * b[gidx][gidy]\n",
    "        + b[(gidx - 1) % maxx][gidy]\n",
    "        + b[(gidx + 1) % maxx][gidy]\n",
    "        + b[gidx][((gidy - 1) % maxy)]\n",
    "        + b[gidx][((gidy + 1) % maxy)];\n",
    "#else\n",
    "    diff[gidx + gidy * maxx] = - 4. * matrix[gidx + gidy * maxx]\n",
    "        + matrix[(gidx - 1) % maxx + gidy * maxx]\n",
    "        + matrix[(gidx + 1) % maxx + gidy * maxx]\n",
    "        + matrix[gidx + ((gidy - 1) % maxy) * maxx]\n",
    "        + matrix[gidx + ((gidy + 1) % maxy) * maxx];\n",
    "#endif\n",
    "}\n",
    "\"\"\";"
   ]
  },
  {
   "cell_type": "code",
   "execution_count": 15,
   "metadata": {
    "collapsed": false,
    "deletable": true,
    "editable": true,
    "nbpresent": {
     "id": "5e676d54-65d4-43cc-8dcf-ce0f3ec3ffac"
    }
   },
   "outputs": [],
   "source": [
    "sum_kernel = \"\"\"\n",
    "__kernel void sum(\n",
    "    __global float *matrix,\n",
    "    __global const float *diff,\n",
    "    float step_size)\n",
    "{\n",
    "    int gid = get_global_id(0);\n",
    "    matrix[gid] += step_size * diff[gid];\n",
    "}\n",
    "\"\"\";"
   ]
  },
  {
   "cell_type": "code",
   "execution_count": 16,
   "metadata": {
    "collapsed": true,
    "deletable": true,
    "editable": true
   },
   "outputs": [],
   "source": [
    "using OpenCL"
   ]
  },
  {
   "cell_type": "code",
   "execution_count": 17,
   "metadata": {
    "collapsed": false,
    "deletable": true,
    "editable": true,
    "scrolled": true
   },
   "outputs": [
    {
     "data": {
      "text/plain": [
       "do_openCL2d (generic function with 1 method)"
      ]
     },
     "execution_count": 17,
     "metadata": {},
     "output_type": "execute_result"
    }
   ],
   "source": [
    "function do_openCL2d(input, step_size, num_steps)\n",
    "    device, ctx, queue = cl.create_compute_context()\n",
    "    print(device, ctx, queue)\n",
    "    input_buff = cl.Buffer(Float32, ctx, (:rw, :copy), hostbuf=input)\n",
    "    diff_buff = cl.Buffer(Float32, ctx, :rw, length(input))\n",
    "\n",
    "    program = cl.Program(ctx, source=diff_kernel * sum_kernel) |> cl.build!\n",
    "\n",
    "    diff_k = cl.Kernel(program, \"diff2d\")\n",
    "    sum_k = cl.Kernel(program, \"sum\")\n",
    "\n",
    "    for i in 1:num_steps\n",
    "        queue(diff_k, size(input), nothing, input_buff, diff_buff)\n",
    "        queue(sum_k, length(input), nothing, input_buff, diff_buff, Float32(step_size))\n",
    "    end\n",
    "    r = cl.read(queue, input_buff);\n",
    "    r = reshape(r, size(input))\n",
    "    return r\n",
    "end"
   ]
  },
  {
   "cell_type": "code",
   "execution_count": 18,
   "metadata": {
    "collapsed": false,
    "deletable": true,
    "editable": true
   },
   "outputs": [
    {
     "name": "stdout",
     "output_type": "stream",
     "text": [
      "OpenCL.Device(Intel Xeon E312xx (Sandy Bridge) on Intel(R) OpenCL @0x00000000174ad218)OpenCL.Context(@0x0000000017217a98 on Intel Xeon E312xx (Sandy Bridge))OpenCL.CmdQueue(@0x000000001703afd8)  3.270778 seconds (1.11 M allocations: 47.379 MB, 5.85% gc time)\n"
     ]
    },
    {
     "data": {
      "text/plain": [
       "500×500 Array{Float32,2}:\n",
       " 0.0  0.0  0.0  0.0  0.0  0.0  0.0  0.0  …  0.0  0.0  0.0  0.0  0.0  0.0  0.0\n",
       " 0.0  0.0  0.0  0.0  0.0  0.0  0.0  0.0     0.0  0.0  0.0  0.0  0.0  0.0  0.0\n",
       " 0.0  0.0  0.0  0.0  0.0  0.0  0.0  0.0     0.0  0.0  0.0  0.0  0.0  0.0  0.0\n",
       " 0.0  0.0  0.0  0.0  0.0  0.0  0.0  0.0     0.0  0.0  0.0  0.0  0.0  0.0  0.0\n",
       " 0.0  0.0  0.0  0.0  0.0  0.0  0.0  0.0     0.0  0.0  0.0  0.0  0.0  0.0  0.0\n",
       " 0.0  0.0  0.0  0.0  0.0  0.0  0.0  0.0  …  0.0  0.0  0.0  0.0  0.0  0.0  0.0\n",
       " 0.0  0.0  0.0  0.0  0.0  0.0  0.0  0.0     0.0  0.0  0.0  0.0  0.0  0.0  0.0\n",
       " 0.0  0.0  0.0  0.0  0.0  0.0  0.0  0.0     0.0  0.0  0.0  0.0  0.0  0.0  0.0\n",
       " 0.0  0.0  0.0  0.0  0.0  0.0  0.0  0.0     0.0  0.0  0.0  0.0  0.0  0.0  0.0\n",
       " 0.0  0.0  0.0  0.0  0.0  0.0  0.0  0.0     0.0  0.0  0.0  0.0  0.0  0.0  0.0\n",
       " 0.0  0.0  0.0  0.0  0.0  0.0  0.0  0.0  …  0.0  0.0  0.0  0.0  0.0  0.0  0.0\n",
       " 0.0  0.0  0.0  0.0  0.0  0.0  0.0  0.0     0.0  0.0  0.0  0.0  0.0  0.0  0.0\n",
       " 0.0  0.0  0.0  0.0  0.0  0.0  0.0  0.0     0.0  0.0  0.0  0.0  0.0  0.0  0.0\n",
       " ⋮                        ⋮              ⋱            ⋮                      \n",
       " 0.0  0.0  0.0  0.0  0.0  0.0  0.0  0.0     0.0  0.0  0.0  0.0  0.0  0.0  0.0\n",
       " 0.0  0.0  0.0  0.0  0.0  0.0  0.0  0.0     0.0  0.0  0.0  0.0  0.0  0.0  0.0\n",
       " 0.0  0.0  0.0  0.0  0.0  0.0  0.0  0.0  …  0.0  0.0  0.0  0.0  0.0  0.0  0.0\n",
       " 0.0  0.0  0.0  0.0  0.0  0.0  0.0  0.0     0.0  0.0  0.0  0.0  0.0  0.0  0.0\n",
       " 0.0  0.0  0.0  0.0  0.0  0.0  0.0  0.0     0.0  0.0  0.0  0.0  0.0  0.0  0.0\n",
       " 0.0  0.0  0.0  0.0  0.0  0.0  0.0  0.0     0.0  0.0  0.0  0.0  0.0  0.0  0.0\n",
       " 0.0  0.0  0.0  0.0  0.0  0.0  0.0  0.0     0.0  0.0  0.0  0.0  0.0  0.0  0.0\n",
       " 0.0  0.0  0.0  0.0  0.0  0.0  0.0  0.0  …  0.0  0.0  0.0  0.0  0.0  0.0  0.0\n",
       " 0.0  0.0  0.0  0.0  0.0  0.0  0.0  0.0     0.0  0.0  0.0  0.0  0.0  0.0  0.0\n",
       " 0.0  0.0  0.0  0.0  0.0  0.0  0.0  0.0     0.0  0.0  0.0  0.0  0.0  0.0  0.0\n",
       " 0.0  0.0  0.0  0.0  0.0  0.0  0.0  0.0     0.0  0.0  0.0  0.0  0.0  0.0  0.0\n",
       " 0.0  0.0  0.0  0.0  0.0  0.0  0.0  0.0     0.0  0.0  0.0  0.0  0.0  0.0  0.0"
      ]
     },
     "execution_count": 18,
     "metadata": {},
     "output_type": "execute_result"
    }
   ],
   "source": [
    "init = initial_state(500, 500)\n",
    "@time res = do_openCL2d(init, Float32(0.01), 100)"
   ]
  },
  {
   "cell_type": "code",
   "execution_count": 19,
   "metadata": {
    "collapsed": false
   },
   "outputs": [
    {
     "name": "stdout",
     "output_type": "stream",
     "text": [
      "OpenCL.Device(Intel Xeon E312xx (Sandy Bridge) on Intel(R) OpenCL @0x00000000174ad218)OpenCL.Context(@0x0000000005345638 on Intel Xeon E312xx (Sandy Bridge))OpenCL.CmdQueue(@0x00000000056ab7c8)OpenCL.Device(Intel Xeon E312xx (Sandy Bridge) on Intel(R) OpenCL @0x00000000174ad218)OpenCL.Context(@0x0000000013fffc18 on Intel Xeon E312xx (Sandy Bridge))OpenCL.CmdQueue(@0x00000000174968f8)OpenCL.Device(Intel Xeon E312xx (Sandy Bridge) on Intel(R) OpenCL @0x00000000174ad218)OpenCL.Context(@0x0000000004e84838 on Intel Xeon E312xx (Sandy Bridge))OpenCL.CmdQueue(@0x00000000145152e8)OpenCL.Device(Intel Xeon E312xx (Sandy Bridge) on Intel(R) OpenCL @0x00000000174ad218)OpenCL.Context(@0x0000000033a5b918 on Intel Xeon E312xx (Sandy Bridge))OpenCL.CmdQueue(@0x0000000012001d08)OpenCL.Device(Intel Xeon E312xx (Sandy Bridge) on Intel(R) OpenCL @0x00000000174ad218)OpenCL.Context(@0x00000000120569d8 on Intel Xeon E312xx (Sandy Bridge))OpenCL.CmdQueue(@0x0000000011fdc008)OpenCL.Device(Intel Xeon E312xx (Sandy Bridge) on Intel(R) OpenCL @0x00000000174ad218)OpenCL.Context(@0x0000000011ce2368 on Intel Xeon E312xx (Sandy Bridge))OpenCL.CmdQueue(@0x0000000012061968)OpenCL.Device(Intel Xeon E312xx (Sandy Bridge) on Intel(R) OpenCL @0x00000000174ad218)OpenCL.Context(@0x0000000011d3a578 on Intel Xeon E312xx (Sandy Bridge))OpenCL.CmdQueue(@0x0000000012073588)OpenCL.Device(Intel Xeon E312xx (Sandy Bridge) on Intel(R) OpenCL @0x00000000174ad218)OpenCL.Context(@0x0000000011bafb98 on Intel Xeon E312xx (Sandy Bridge))OpenCL.CmdQueue(@0x000000001794d648)OpenCL.Device(Intel Xeon E312xx (Sandy Bridge) on Intel(R) OpenCL @0x00000000174ad218)OpenCL.Context(@0x0000000011c08578 on Intel Xeon E312xx (Sandy Bridge))OpenCL.CmdQueue(@0x0000000011c08bc8)OpenCL.Device(Intel Xeon E312xx (Sandy Bridge) on Intel(R) OpenCL @0x00000000174ad218)OpenCL.Context(@0x0000000011c60758 on Intel Xeon E312xx (Sandy Bridge))OpenCL.CmdQueue(@0x0000000011c60da8)OpenCL.Device(Intel Xeon E312xx (Sandy Bridge) on Intel(R) OpenCL @0x00000000174ad218)OpenCL.Context(@0x0000000011acdc28 on Intel Xeon E312xx (Sandy Bridge))OpenCL.CmdQueue(@0x0000000011ace278)OpenCL.Device(Intel Xeon E312xx (Sandy Bridge) on Intel(R) OpenCL @0x00000000174ad218)OpenCL.Context(@0x0000000011b2f428 on Intel Xeon E312xx (Sandy Bridge))OpenCL.CmdQueue(@0x0000000011b2fa78)OpenCL.Device(Intel Xeon E312xx (Sandy Bridge) on Intel(R) OpenCL @0x00000000174ad218)OpenCL.Context(@0x0000000011b859b8 on Intel Xeon E312xx (Sandy Bridge))OpenCL.CmdQueue(@0x0000000011b86008)OpenCL.Device(Intel Xeon E312xx (Sandy Bridge) on Intel(R) OpenCL @0x00000000174ad218)OpenCL.Context(@0x00000000119f8558 on Intel Xeon E312xx (Sandy Bridge))OpenCL.CmdQueue(@0x00000000119f8ba8)OpenCL.Device(Intel Xeon E312xx (Sandy Bridge) on Intel(R) OpenCL @0x00000000174ad218)OpenCL.Context(@0x0000000011a4de68 on Intel Xeon E312xx (Sandy Bridge))OpenCL.CmdQueue(@0x0000000011a4e4b8)OpenCL.Device(Intel Xeon E312xx (Sandy Bridge) on Intel(R) OpenCL @0x00000000174ad218)OpenCL.Context(@0x0000000011aa78d8 on Intel Xeon E312xx (Sandy Bridge))OpenCL.CmdQueue(@0x0000000011aa7f28)OpenCL.Device(Intel Xeon E312xx (Sandy Bridge) on Intel(R) OpenCL @0x00000000174ad218)OpenCL.Context(@0x000000001172bd58 on Intel Xeon E312xx (Sandy Bridge))OpenCL.CmdQueue(@0x000000001172c3a8)OpenCL.Device(Intel Xeon E312xx (Sandy Bridge) on Intel(R) OpenCL @0x00000000174ad218)OpenCL.Context(@0x0000000011783398 on Intel Xeon E312xx (Sandy Bridge))OpenCL.CmdQueue(@0x00000000117839e8)OpenCL.Device(Intel Xeon E312xx (Sandy Bridge) on Intel(R) OpenCL @0x00000000174ad218)OpenCL.Context(@0x00000000117d87d8 on Intel Xeon E312xx (Sandy Bridge))OpenCL.CmdQueue(@0x0000000011789708)OpenCL.Device(Intel Xeon E312xx (Sandy Bridge) on Intel(R) OpenCL @0x00000000174ad218)OpenCL.Context(@0x000000001164c298 on Intel Xeon E312xx (Sandy Bridge))OpenCL.CmdQueue(@0x0000000011605368)OpenCL.Device(Intel Xeon E312xx (Sandy Bridge) on Intel(R) OpenCL @0x00000000174ad218)OpenCL.Context(@0x0000000011b2aea8 on Intel Xeon E312xx (Sandy Bridge))OpenCL.CmdQueue(@0x0000000011b2b4f8)OpenCL.Device(Intel Xeon E312xx (Sandy Bridge) on Intel(R) OpenCL @0x00000000174ad218)OpenCL.Context(@0x0000000011523958 on Intel Xeon E312xx (Sandy Bridge))OpenCL.CmdQueue(@0x0000000011523fa8)OpenCL.Device(Intel Xeon E312xx (Sandy Bridge) on Intel(R) OpenCL @0x00000000174ad218)OpenCL.Context(@0x000000001157ba18 on Intel Xeon E312xx (Sandy Bridge))OpenCL.CmdQueue(@0x000000001157c068)OpenCL.Device(Intel Xeon E312xx (Sandy Bridge) on Intel(R) OpenCL @0x00000000174ad218)OpenCL.Context(@0x00000000115d3c78 on Intel Xeon E312xx (Sandy Bridge))OpenCL.CmdQueue(@0x00000000115d42c8)OpenCL.Device(Intel Xeon E312xx (Sandy Bridge) on Intel(R) OpenCL @0x00000000174ad218)OpenCL.Context(@0x0000000011444d68 on Intel Xeon E312xx (Sandy Bridge))OpenCL.CmdQueue(@0x00000000114453b8)OpenCL.Device(Intel Xeon E312xx (Sandy Bridge) on Intel(R) OpenCL @0x00000000174ad218)OpenCL.Context(@0x000000001149d338 on Intel Xeon E312xx (Sandy Bridge))OpenCL.CmdQueue(@0x0000000011457e88)OpenCL.Device(Intel Xeon E312xx (Sandy Bridge) on Intel(R) OpenCL @0x00000000174ad218)OpenCL.Context(@0x00000000114f2df8 on Intel Xeon E312xx (Sandy Bridge))OpenCL.CmdQueue(@0x00000000114ada78)OpenCL.Device(Intel Xeon E312xx (Sandy Bridge) on Intel(R) OpenCL @0x00000000174ad218)OpenCL.Context(@0x000000001117beb8 on Intel Xeon E312xx (Sandy Bridge))OpenCL.CmdQueue(@0x0000000011501798)OpenCL.Device(Intel Xeon E312xx (Sandy Bridge) on Intel(R) OpenCL @0x00000000174ad218)OpenCL.Context(@0x00000000111d43b8 on Intel Xeon E312xx (Sandy Bridge))OpenCL.CmdQueue(@0x00000000111843d8)OpenCL.Device(Intel Xeon E312xx (Sandy Bridge) on Intel(R) OpenCL @0x00000000174ad218)OpenCL.Context(@0x0000000011044178 on Intel Xeon E312xx (Sandy Bridge))OpenCL.CmdQueue(@0x00000000110447c8)OpenCL.Device(Intel Xeon E312xx (Sandy Bridge) on Intel(R) OpenCL @0x00000000174ad218)OpenCL.Context(@0x000000001109c188 on Intel Xeon E312xx (Sandy Bridge))OpenCL.CmdQueue(@0x00000000110576a8)OpenCL.Device(Intel Xeon E312xx (Sandy Bridge) on Intel(R) OpenCL @0x00000000174ad218)OpenCL.Context(@0x00000000110f33a8 on Intel Xeon E312xx (Sandy Bridge))OpenCL.CmdQueue(@0x00000000110f39f8)OpenCL.Device(Intel Xeon E312xx (Sandy Bridge) on Intel(R) OpenCL @0x00000000174ad218)OpenCL.Context(@0x0000000010f620d8 on Intel Xeon E312xx (Sandy Bridge))OpenCL.CmdQueue(@0x0000000010f62728)OpenCL.Device(Intel Xeon E312xx (Sandy Bridge) on Intel(R) OpenCL @0x00000000174ad218)OpenCL.Context(@0x0000000010fbd618 on Intel Xeon E312xx (Sandy Bridge))OpenCL.CmdQueue(@0x0000000010fbdc68)OpenCL.Device(Intel Xeon E312xx (Sandy Bridge) on Intel(R) OpenCL @0x00000000174ad218)OpenCL.Context(@0x0000000011015818 on Intel Xeon E312xx (Sandy Bridge))OpenCL.CmdQueue(@0x0000000011015e68)OpenCL.Device(Intel Xeon E312xx (Sandy Bridge) on Intel(R) OpenCL @0x00000000174ad218)OpenCL.Context(@0x0000000010e84ca8 on Intel Xeon E312xx (Sandy Bridge))OpenCL.CmdQueue(@0x0000000011027218)OpenCL.Device(Intel Xeon E312xx (Sandy Bridge) on Intel(R) OpenCL @0x00000000174ad218)OpenCL.Context(@0x0000000010edbd18 on Intel Xeon E312xx (Sandy Bridge))OpenCL.CmdQueue(@0x0000000011027f28)OpenCL.Device(Intel Xeon E312xx (Sandy Bridge) on Intel(R) OpenCL @0x00000000174ad218)OpenCL.Context(@0x0000000010f35578 on Intel Xeon E312xx (Sandy Bridge))OpenCL.CmdQueue(@0x0000000010f35bc8)OpenCL.Device(Intel Xeon E312xx (Sandy Bridge) on Intel(R) OpenCL @0x00000000174ad218)OpenCL.Context(@0x00000000116af8c8 on Intel Xeon E312xx (Sandy Bridge))OpenCL.CmdQueue(@0x0000000010f3de58)OpenCL.Device(Intel Xeon E312xx (Sandy Bridge) on Intel(R) OpenCL @0x00000000174ad218)OpenCL.Context(@0x0000000010e1c358 on Intel Xeon E312xx (Sandy Bridge))OpenCL.CmdQueue(@0x0000000010e1c9a8)OpenCL.Device(Intel Xeon E312xx (Sandy Bridge) on Intel(R) OpenCL @0x00000000174ad218)OpenCL.Context(@0x0000000010c8b8a8 on Intel Xeon E312xx (Sandy Bridge))OpenCL.CmdQueue(@0x0000000010c8bef8)OpenCL.Device(Intel Xeon E312xx (Sandy Bridge) on Intel(R) OpenCL @0x00000000174ad218)OpenCL.Context(@0x0000000010ce2918 on Intel Xeon E312xx (Sandy Bridge))OpenCL.CmdQueue(@0x0000000010ce2f68)OpenCL.Device(Intel Xeon E312xx (Sandy Bridge) on Intel(R) OpenCL @0x00000000174ad218)OpenCL.Context(@0x0000000010d3a038 on Intel Xeon E312xx (Sandy Bridge))OpenCL.CmdQueue(@0x0000000010cf5a98)OpenCL.Device(Intel Xeon E312xx (Sandy Bridge) on Intel(R) OpenCL @0x00000000174ad218)OpenCL.Context(@0x0000000010baa3d8 on Intel Xeon E312xx (Sandy Bridge))OpenCL.CmdQueue(@0x0000000010d4c7e8)OpenCL.Device(Intel Xeon E312xx (Sandy Bridge) on Intel(R) OpenCL @0x00000000174ad218)OpenCL.Context(@0x0000000010c021f8 on Intel Xeon E312xx (Sandy Bridge))OpenCL.CmdQueue(@0x0000000010bbcae8)OpenCL.Device(Intel Xeon E312xx (Sandy Bridge) on Intel(R) OpenCL @0x00000000174ad218)OpenCL.Context(@0x0000000010c5a378 on Intel Xeon E312xx (Sandy Bridge))OpenCL.CmdQueue(@0x0000000010c5a9c8)OpenCL.Device(Intel Xeon E312xx (Sandy Bridge) on Intel(R) OpenCL @0x00000000174ad218)OpenCL.Context(@0x00000000108de8f8 on Intel Xeon E312xx (Sandy Bridge))OpenCL.CmdQueue(@0x00000000108def48)OpenCL.Device(Intel Xeon E312xx (Sandy Bridge) on Intel(R) OpenCL @0x00000000174ad218)OpenCL.Context(@0x0000000004e84838 on Intel Xeon E312xx (Sandy Bridge))OpenCL.CmdQueue(@0x000000000532fa38)OpenCL.Device(Intel Xeon E312xx (Sandy Bridge) on Intel(R) OpenCL @0x00000000174ad218)OpenCL.Context(@0x0000000033a5b918 on Intel Xeon E312xx (Sandy Bridge))OpenCL.CmdQueue(@0x000000000fc1c308)OpenCL.Device(Intel Xeon E312xx (Sandy Bridge) on Intel(R) OpenCL @0x00000000174ad218)OpenCL.Context(@0x0000000028eaf718 on Intel Xeon E312xx (Sandy Bridge))OpenCL.CmdQueue(@0x000000000fbd1018)OpenCL.Device(Intel Xeon E312xx (Sandy Bridge) on Intel(R) OpenCL @0x00000000174ad218)OpenCL.Context(@0x000000000f8fb818 on Intel Xeon E312xx (Sandy Bridge))OpenCL.CmdQueue(@0x000000000fbe7518)OpenCL.Device(Intel Xeon E312xx (Sandy Bridge) on Intel(R) OpenCL @0x00000000174ad218)OpenCL.Context(@0x000000000f955df8 on Intel Xeon E312xx (Sandy Bridge))OpenCL.CmdQueue(@0x000000000f94a908)OpenCL.Device(Intel Xeon E312xx (Sandy Bridge) on Intel(R) OpenCL @0x00000000174ad218)OpenCL.Context(@0x000000000f7c4bc8 on Intel Xeon E312xx (Sandy Bridge))OpenCL.CmdQueue(@0x000000000f7c5218)OpenCL.Device(Intel Xeon E312xx (Sandy Bridge) on Intel(R) OpenCL @0x00000000174ad218)OpenCL.Context(@0x000000000f81e638 on Intel Xeon E312xx (Sandy Bridge))OpenCL.CmdQueue(@0x000000000f81ec88)OpenCL.Device(Intel Xeon E312xx (Sandy Bridge) on Intel(R) OpenCL @0x00000000174ad218)OpenCL.Context(@0x000000000f68dfe8 on Intel Xeon E312xx (Sandy Bridge))OpenCL.CmdQueue(@0x000000000f68e638)OpenCL.Device(Intel Xeon E312xx (Sandy Bridge) on Intel(R) OpenCL @0x00000000174ad218)OpenCL.Context(@0x000000000f6e6438 on Intel Xeon E312xx (Sandy Bridge))OpenCL.CmdQueue(@0x000000000f6e6a88)OpenCL.Device(Intel Xeon E312xx (Sandy Bridge) on Intel(R) OpenCL @0x00000000174ad218)OpenCL.Context(@0x000000000f73e658 on Intel Xeon E312xx (Sandy Bridge))OpenCL.CmdQueue(@0x000000000f73eca8)OpenCL.Device(Intel Xeon E312xx (Sandy Bridge) on Intel(R) OpenCL @0x00000000174ad218)OpenCL.Context(@0x000000000f5ae478 on Intel Xeon E312xx (Sandy Bridge))OpenCL.CmdQueue(@0x000000000f5aeac8)OpenCL.Device(Intel Xeon E312xx (Sandy Bridge) on Intel(R) OpenCL @0x00000000174ad218)OpenCL.Context(@0x000000000f6068a8 on Intel Xeon E312xx (Sandy Bridge))OpenCL.CmdQueue(@0x000000000f5c0ef8)OpenCL.Device(Intel Xeon E312xx (Sandy Bridge) on Intel(R) OpenCL @0x00000000174ad218)OpenCL.Context(@0x000000000f65eff8 on Intel Xeon E312xx (Sandy Bridge))OpenCL.CmdQueue(@0x000000000f65f648)OpenCL.Device(Intel Xeon E312xx (Sandy Bridge) on Intel(R) OpenCL @0x00000000174ad218)OpenCL.Context(@0x000000000f4d0178 on Intel Xeon E312xx (Sandy Bridge))OpenCL.CmdQueue(@0x000000000f4d07c8)OpenCL.Device(Intel Xeon E312xx (Sandy Bridge) on Intel(R) OpenCL @0x00000000174ad218)OpenCL.Context(@0x000000000f5288d8 on Intel Xeon E312xx (Sandy Bridge))OpenCL.CmdQueue(@0x000000000f528f28)OpenCL.Device(Intel Xeon E312xx (Sandy Bridge) on Intel(R) OpenCL @0x00000000174ad218)OpenCL.Context(@0x000000000f5800f8 on Intel Xeon E312xx (Sandy Bridge))OpenCL.CmdQueue(@0x000000000f580748)OpenCL.Device(Intel Xeon E312xx (Sandy Bridge) on Intel(R) OpenCL @0x00000000174ad218)OpenCL.Context(@0x000000000f3ef2f8 on Intel Xeon E312xx (Sandy Bridge))OpenCL.CmdQueue(@0x000000000f3a0558)OpenCL.Device(Intel Xeon E312xx (Sandy Bridge) on Intel(R) OpenCL @0x00000000174ad218)OpenCL.Context(@0x000000000f4486b8 on Intel Xeon E312xx (Sandy Bridge))OpenCL.CmdQueue(@0x000000000f448d08)OpenCL.Device(Intel Xeon E312xx (Sandy Bridge) on Intel(R) OpenCL @0x00000000174ad218)OpenCL.Context(@0x000000000f2b8778 on Intel Xeon E312xx (Sandy Bridge))OpenCL.CmdQueue(@0x000000000f45b168)OpenCL.Device(Intel Xeon E312xx (Sandy Bridge) on Intel(R) OpenCL @0x00000000174ad218)OpenCL.Context(@0x000000000f3107a8 on Intel Xeon E312xx (Sandy Bridge))OpenCL.CmdQueue(@0x000000000f310df8)OpenCL.Device(Intel Xeon E312xx (Sandy Bridge) on Intel(R) OpenCL @0x00000000174ad218)OpenCL.Context(@0x000000000f368a58 on Intel Xeon E312xx (Sandy Bridge))OpenCL.CmdQueue(@0x000000000f3690a8)OpenCL.Device(Intel Xeon E312xx (Sandy Bridge) on Intel(R) OpenCL @0x00000000174ad218)OpenCL.Context(@0x000000000f1d7b38 on Intel Xeon E312xx (Sandy Bridge))OpenCL.CmdQueue(@0x000000000f1d8188)OpenCL.Device(Intel Xeon E312xx (Sandy Bridge) on Intel(R) OpenCL @0x00000000174ad218)OpenCL.Context(@0x000000000f2312e8 on Intel Xeon E312xx (Sandy Bridge))OpenCL.CmdQueue(@0x000000000f231938)OpenCL.Device(Intel Xeon E312xx (Sandy Bridge) on Intel(R) OpenCL @0x00000000174ad218)OpenCL.Context(@0x000000000f288ee8 on Intel Xeon E312xx (Sandy Bridge))OpenCL.CmdQueue(@0x000000000f289538)OpenCL.Device(Intel Xeon E312xx (Sandy Bridge) on Intel(R) OpenCL @0x00000000174ad218)OpenCL.Context(@0x000000000f0fa9f8 on Intel Xeon E312xx (Sandy Bridge))OpenCL.CmdQueue(@0x000000000f2a0518)OpenCL.Device(Intel Xeon E312xx (Sandy Bridge) on Intel(R) OpenCL @0x00000000174ad218)OpenCL.Context(@0x000000000f150198 on Intel Xeon E312xx (Sandy Bridge))OpenCL.CmdQueue(@0x000000000f1507e8)OpenCL.Device(Intel Xeon E312xx (Sandy Bridge) on Intel(R) OpenCL @0x00000000174ad218)OpenCL.Context(@0x000000000f1aa658 on Intel Xeon E312xx (Sandy Bridge))OpenCL.CmdQueue(@0x000000000f1aaca8)OpenCL.Device(Intel Xeon E312xx (Sandy Bridge) on Intel(R) OpenCL @0x00000000174ad218)OpenCL.Context(@0x000000000ee31318 on Intel Xeon E312xx (Sandy Bridge))OpenCL.CmdQueue(@0x000000000ee31968)OpenCL.Device(Intel Xeon E312xx (Sandy Bridge) on Intel(R) OpenCL @0x00000000174ad218)OpenCL.Context(@0x000000000ee8a718 on Intel Xeon E312xx (Sandy Bridge))OpenCL.CmdQueue(@0x000000000ee8ad68)OpenCL.Device(Intel Xeon E312xx (Sandy Bridge) on Intel(R) OpenCL @0x00000000174ad218)OpenCL.Context(@0x000000000ecfa478 on Intel Xeon E312xx (Sandy Bridge))OpenCL.CmdQueue(@0x000000000ecfaac8)OpenCL.Device(Intel Xeon E312xx (Sandy Bridge) on Intel(R) OpenCL @0x00000000174ad218)OpenCL.Context(@0x000000000ed52db8 on Intel Xeon E312xx (Sandy Bridge))OpenCL.CmdQueue(@0x000000000ed53408)OpenCL.Device(Intel Xeon E312xx (Sandy Bridge) on Intel(R) OpenCL @0x00000000174ad218)OpenCL.Context(@0x000000000edaaea8 on Intel Xeon E312xx (Sandy Bridge))OpenCL.CmdQueue(@0x000000000edab4f8)OpenCL.Device(Intel Xeon E312xx (Sandy Bridge) on Intel(R) OpenCL @0x00000000174ad218)OpenCL.Context(@0x000000000ec1b0d8 on Intel Xeon E312xx (Sandy Bridge))OpenCL.CmdQueue(@0x000000000ec1b728)OpenCL.Device(Intel Xeon E312xx (Sandy Bridge) on Intel(R) OpenCL @0x00000000174ad218)OpenCL.Context(@0x000000000ec70a58 on Intel Xeon E312xx (Sandy Bridge))OpenCL.CmdQueue(@0x000000000ec710a8)OpenCL.Device(Intel Xeon E312xx (Sandy Bridge) on Intel(R) OpenCL @0x00000000174ad218)OpenCL.Context(@0x000000000eccb6d8 on Intel Xeon E312xx (Sandy Bridge))OpenCL.CmdQueue(@0x000000000eccbd28)OpenCL.Device(Intel Xeon E312xx (Sandy Bridge) on Intel(R) OpenCL @0x00000000174ad218)OpenCL.Context(@0x000000000eb387c8 on Intel Xeon E312xx (Sandy Bridge))OpenCL.CmdQueue(@0x000000000ecd1ad8)OpenCL.Device(Intel Xeon E312xx (Sandy Bridge) on Intel(R) OpenCL @0x00000000174ad218)OpenCL.Context(@0x000000000eb91f28 on Intel Xeon E312xx (Sandy Bridge))OpenCL.CmdQueue(@0x000000000ecdb9d8)OpenCL.Device(Intel Xeon E312xx (Sandy Bridge) on Intel(R) OpenCL @0x00000000174ad218)OpenCL.Context(@0x000000000ebebb78 on Intel Xeon E312xx (Sandy Bridge))OpenCL.CmdQueue(@0x000000000ebec1c8)OpenCL.Device(Intel Xeon E312xx (Sandy Bridge) on Intel(R) OpenCL @0x00000000174ad218)OpenCL.Context(@0x000000000e873198 on Intel Xeon E312xx (Sandy Bridge))OpenCL.CmdQueue(@0x000000000ebfe648)OpenCL.Device(Intel Xeon E312xx (Sandy Bridge) on Intel(R) OpenCL @0x00000000174ad218)OpenCL.Context(@0x000000000e8c9328 on Intel Xeon E312xx (Sandy Bridge))OpenCL.CmdQueue(@0x000000000e8c9978)OpenCL.Device(Intel Xeon E312xx (Sandy Bridge) on Intel(R) OpenCL @0x00000000174ad218)OpenCL.Context(@0x000000000e73baf8 on Intel Xeon E312xx (Sandy Bridge))OpenCL.CmdQueue(@0x000000000e73c148)"
     ]
    },
    {
     "data": {
      "text/plain": [
       "BenchmarkTools.Trial: \n",
       "  memory estimate:  1.24 MiB\n",
       "  allocs estimate:  8134\n",
       "  --------------\n",
       "  minimum time:     99.379 ms (0.00% GC)\n",
       "  median time:      117.086 ms (0.00% GC)\n",
       "  mean time:        123.847 ms (0.00% GC)\n",
       "  maximum time:     403.320 ms (0.00% GC)\n",
       "  --------------\n",
       "  samples:          41\n",
       "  evals/sample:     1\n",
       "  time tolerance:   5.00%\n",
       "  memory tolerance: 1.00%"
      ]
     },
     "execution_count": 19,
     "metadata": {},
     "output_type": "execute_result"
    }
   ],
   "source": [
    "@benchmark do_openCL2d(init, Float32(0.01), 100)"
   ]
  },
  {
   "cell_type": "code",
   "execution_count": 20,
   "metadata": {
    "collapsed": false
   },
   "outputs": [
    {
     "data": {
      "image/png": "[encoded data removed]",
      "text/plain": [
       "PyPlot.Figure(PyObject <matplotlib.figure.Figure object at 0x7f95dd5b8350>)"
      ]
     },
     "metadata": {},
     "output_type": "display_data"
    },
    {
     "data": {
      "text/plain": [
       "PyObject <matplotlib.image.AxesImage object at 0x7f9559e45ad0>"
      ]
     },
     "execution_count": 20,
     "metadata": {},
     "output_type": "execute_result"
    }
   ],
   "source": [
    "PyPlot.imshow(res)"
   ]
  },
  {
   "cell_type": "code",
   "execution_count": null,
   "metadata": {
    "collapsed": true
   },
   "outputs": [],
   "source": []
  }
 ],
 "metadata": {
  "anaconda-cloud": {},
  "kernelspec": {
   "display_name": "Julia 0.5.1",
   "language": "julia",
   "name": "julia-0.5"
  },
  "language_info": {
   "file_extension": ".jl",
   "mimetype": "application/julia",
   "name": "julia",
   "version": "0.5.1"
  },
  "nbpresent": {
   "slides": {
    "006dbbb5-2249-45cc-9d54-d18e453c68c1": {
     "id": "006dbbb5-2249-45cc-9d54-d18e453c68c1",
     "prev": "405e0d32-e4df-4aad-b643-43869f91eb43",
     "regions": {
      "f5c20b0b-35b8-43d8-aabc-74380b1f9076": {
       "attrs": {
        "height": 0.8,
        "width": 0.8,
        "x": 0.1,
        "y": 0.1
       },
       "content": {
        "cell": "65247db1-0e39-4afb-8932-2ad1e86976df",
        "part": "whole"
       },
       "id": "f5c20b0b-35b8-43d8-aabc-74380b1f9076"
      }
     }
    },
    "02af1cc2-c4e2-463e-8c71-daeaf1d8aeae": {
     "id": "02af1cc2-c4e2-463e-8c71-daeaf1d8aeae",
     "prev": "73b2284c-9b05-42ab-8894-97c5a1d2e19f",
     "regions": {
      "b5daa71b-a3eb-47fd-a62a-82071e114cad": {
       "attrs": {
        "height": 0.8,
        "width": 0.8,
        "x": 0.1,
        "y": 0.1
       },
       "content": {
        "cell": "db303ab6-27bb-4c84-a36c-62b207433b95",
        "part": "whole"
       },
       "id": "b5daa71b-a3eb-47fd-a62a-82071e114cad"
      }
     }
    },
    "0793052e-9249-4a49-9fcd-407cde269ffa": {
     "id": "0793052e-9249-4a49-9fcd-407cde269ffa",
     "prev": "f618ebf9-22cd-4f12-80ea-f5f9e7cf3df3",
     "regions": {
      "d9927a04-00ab-46a2-9305-88e3e5d29059": {
       "attrs": {
        "height": 0.8,
        "width": 0.8,
        "x": 0.1,
        "y": 0.1
       },
       "content": {
        "cell": "ca93f14c-3771-44a7-a2a6-af5238fcdafc",
        "part": "whole"
       },
       "id": "d9927a04-00ab-46a2-9305-88e3e5d29059"
      }
     }
    },
    "0e91d4a9-0e91-434c-9fc3-0417481f0cb7": {
     "id": "0e91d4a9-0e91-434c-9fc3-0417481f0cb7",
     "prev": "7b02f89c-273e-4210-aece-4929b3ffb11d",
     "regions": {
      "3bf8d34f-a20a-4983-a812-4264b6311430": {
       "attrs": {
        "height": 0.8,
        "width": 0.8,
        "x": 0.1,
        "y": 0.1
       },
       "content": {
        "cell": "346702ce-6135-4883-a96a-f464ef4fb3e9",
        "part": "whole"
       },
       "id": "3bf8d34f-a20a-4983-a812-4264b6311430"
      }
     }
    },
    "1266e2e0-10e9-4f53-b8db-56c06f95d88e": {
     "id": "1266e2e0-10e9-4f53-b8db-56c06f95d88e",
     "prev": "2653dc0d-8a5c-48f1-881f-b6675d23cea7",
     "regions": {
      "900cb75a-aee2-40d6-addf-fc28a8b8a36f": {
       "attrs": {
        "height": 0.8,
        "width": 0.8,
        "x": 0.1,
        "y": 0.1
       },
       "content": {
        "cell": "7c0e2fd5-b9d0-4b4f-8a02-4c5045516622",
        "part": "whole"
       },
       "id": "900cb75a-aee2-40d6-addf-fc28a8b8a36f"
      }
     }
    },
    "178af8b5-12b5-4570-b61e-bf5dee48727b": {
     "id": "178af8b5-12b5-4570-b61e-bf5dee48727b",
     "prev": "6d9b7724-f8d4-41c3-a720-13d3c3f87517",
     "regions": {
      "64997871-29fc-4100-a08f-0f9c8399363f": {
       "attrs": {
        "height": 0.8,
        "width": 0.8,
        "x": 0.1,
        "y": 0.1
       },
       "content": {
        "cell": "2a4820a1-c552-4f32-aec0-e2a5e2ee3df8",
        "part": "whole"
       },
       "id": "64997871-29fc-4100-a08f-0f9c8399363f"
      }
     }
    },
    "1da4bd43-1fa6-4f43-9d07-8c4d9d76d0c8": {
     "id": "1da4bd43-1fa6-4f43-9d07-8c4d9d76d0c8",
     "prev": null,
     "regions": {}
    },
    "2653dc0d-8a5c-48f1-881f-b6675d23cea7": {
     "id": "2653dc0d-8a5c-48f1-881f-b6675d23cea7",
     "prev": "178af8b5-12b5-4570-b61e-bf5dee48727b",
     "regions": {
      "ffeb1267-4b69-46e8-9e1d-8162d15acc57": {
       "attrs": {
        "height": 0.8,
        "width": 0.8,
        "x": 0.1,
        "y": 0.1
       },
       "content": {
        "cell": "6eec56fe-dbae-41cf-ab62-d7471209ed79",
        "part": "whole"
       },
       "id": "ffeb1267-4b69-46e8-9e1d-8162d15acc57"
      }
     }
    },
    "2c3f29d4-3963-49d8-9f09-ae83091920f0": {
     "id": "2c3f29d4-3963-49d8-9f09-ae83091920f0",
     "prev": "006dbbb5-2249-45cc-9d54-d18e453c68c1",
     "regions": {
      "dec78eff-d0c0-4b5d-9eb6-9e015d1b0cf1": {
       "attrs": {
        "height": 0.8,
        "width": 0.8,
        "x": 0.1,
        "y": 0.1
       },
       "content": {
        "cell": "a14d4ff0-9e72-462e-a024-50aed92e6da8",
        "part": "whole"
       },
       "id": "dec78eff-d0c0-4b5d-9eb6-9e015d1b0cf1"
      }
     }
    },
    "38a7ef5a-6b0e-4f6e-805e-d08fde1aa5f7": {
     "id": "38a7ef5a-6b0e-4f6e-805e-d08fde1aa5f7",
     "prev": "3f87a064-adcf-4a19-9c66-768af138d381",
     "regions": {
      "f1df66d0-7225-4661-ac94-b2a2f85771fa": {
       "attrs": {
        "height": 0.8,
        "width": 0.8,
        "x": 0.1,
        "y": 0.1
       },
       "content": {
        "cell": "1f8da3f6-48d8-495a-8f52-e7e10403dea6",
        "part": "whole"
       },
       "id": "f1df66d0-7225-4661-ac94-b2a2f85771fa"
      }
     }
    },
    "3a0a2a6a-66ec-4c9b-8bb1-d8ad074b92e5": {
     "id": "3a0a2a6a-66ec-4c9b-8bb1-d8ad074b92e5",
     "prev": "a91e28dd-6e35-469b-85ce-7951625e5079",
     "regions": {
      "3d943f2f-129d-4216-8c5d-95116a612787": {
       "attrs": {
        "height": 0.8,
        "width": 0.8,
        "x": 0.1,
        "y": 0.1
       },
       "content": {
        "cell": "ed8036f5-bdcf-4c44-a8b0-c3d037b647fb",
        "part": "whole"
       },
       "id": "3d943f2f-129d-4216-8c5d-95116a612787"
      }
     }
    },
    "3efaccf7-ef93-4aa4-8608-45a76ed118e5": {
     "id": "3efaccf7-ef93-4aa4-8608-45a76ed118e5",
     "prev": "3a0a2a6a-66ec-4c9b-8bb1-d8ad074b92e5",
     "regions": {
      "6421b292-2740-4677-a019-02b91b598b83": {
       "attrs": {
        "height": 0.8,
        "width": 0.8,
        "x": 0.1,
        "y": 0.1
       },
       "content": {
        "cell": "a6319f12-4a80-4d3e-8c20-b3b0d0367e11",
        "part": "whole"
       },
       "id": "6421b292-2740-4677-a019-02b91b598b83"
      }
     }
    },
    "3f87a064-adcf-4a19-9c66-768af138d381": {
     "id": "3f87a064-adcf-4a19-9c66-768af138d381",
     "prev": "d1c47bed-9ac2-458b-a4a8-d3f33010049d",
     "regions": {
      "bf78379b-815f-4cbc-82c3-5724dbe8db44": {
       "attrs": {
        "height": 0.8,
        "width": 0.8,
        "x": 0.1,
        "y": 0.1
       },
       "content": {
        "cell": "78377954-b770-4763-923c-2d62a5d0d756",
        "part": "whole"
       },
       "id": "bf78379b-815f-4cbc-82c3-5724dbe8db44"
      }
     }
    },
    "405e0d32-e4df-4aad-b643-43869f91eb43": {
     "id": "405e0d32-e4df-4aad-b643-43869f91eb43",
     "prev": "fa0f16e9-64b3-4b47-aceb-0bd679cb79d8",
     "regions": {
      "2712de1b-b226-4221-8044-f099d52f0084": {
       "attrs": {
        "height": 0.8,
        "width": 0.8,
        "x": 0.1,
        "y": 0.1
       },
       "content": {
        "cell": "bd71fd4e-4d01-42c1-9b30-81f52d4b062d",
        "part": "whole"
       },
       "id": "2712de1b-b226-4221-8044-f099d52f0084"
      }
     }
    },
    "4450ac4c-b319-4f06-88e2-84b92f3b989f": {
     "id": "4450ac4c-b319-4f06-88e2-84b92f3b989f",
     "prev": "fdc48802-7eb0-4db5-81da-4fd87e916b9e",
     "regions": {
      "2401a96d-a73a-487b-9c53-17d741008b7f": {
       "attrs": {
        "height": 0.8,
        "width": 0.8,
        "x": 0.1,
        "y": 0.1
       },
       "content": {
        "cell": "3db31e47-be7d-4d4d-aca4-29cd0ddffd5b",
        "part": "whole"
       },
       "id": "2401a96d-a73a-487b-9c53-17d741008b7f"
      }
     }
    },
    "44c0a13f-69cb-4975-8dac-69c6adb44b8d": {
     "id": "44c0a13f-69cb-4975-8dac-69c6adb44b8d",
     "prev": "99ef8682-dd34-4e38-a0ae-aa234fcd4f0c",
     "regions": {
      "8bdb2aa3-5bb2-4591-9044-7fd4f6c7d503": {
       "attrs": {
        "height": 0.8,
        "width": 0.8,
        "x": 0.1,
        "y": 0.1
       },
       "content": {
        "cell": "98248157-04eb-46f9-8a44-98bc5fbd3658",
        "part": "whole"
       },
       "id": "8bdb2aa3-5bb2-4591-9044-7fd4f6c7d503"
      }
     }
    },
    "46f0544a-34df-4797-9185-b4175e4f631f": {
     "id": "46f0544a-34df-4797-9185-b4175e4f631f",
     "prev": "2c3f29d4-3963-49d8-9f09-ae83091920f0",
     "regions": {
      "61e8ecac-bf1c-44cf-bf73-9599aeab4358": {
       "attrs": {
        "height": 0.8,
        "width": 0.8,
        "x": 0.1,
        "y": 0.1
       },
       "content": {
        "cell": "bd2a736d-81e1-4d5c-8b10-0312e02d2316",
        "part": "whole"
       },
       "id": "61e8ecac-bf1c-44cf-bf73-9599aeab4358"
      }
     }
    },
    "4757d594-2560-4424-b5fa-5f4320475984": {
     "id": "4757d594-2560-4424-b5fa-5f4320475984",
     "prev": "4450ac4c-b319-4f06-88e2-84b92f3b989f",
     "regions": {
      "078f7ecd-b34a-4f52-bdc3-eeef5a74e078": {
       "attrs": {
        "height": 0.8,
        "width": 0.8,
        "x": 0.1,
        "y": 0.1
       },
       "content": {
        "cell": "ce0340af-845b-4cb1-8aff-cec10f3ab31b",
        "part": "whole"
       },
       "id": "078f7ecd-b34a-4f52-bdc3-eeef5a74e078"
      }
     }
    },
    "6d9b7724-f8d4-41c3-a720-13d3c3f87517": {
     "id": "6d9b7724-f8d4-41c3-a720-13d3c3f87517",
     "prev": "0e91d4a9-0e91-434c-9fc3-0417481f0cb7",
     "regions": {
      "925010f3-f8b1-4d44-89c2-67e3963b07bc": {
       "attrs": {
        "height": 0.8,
        "width": 0.8,
        "x": 0.1,
        "y": 0.1
       },
       "content": {
        "cell": "eaa88a6c-e89d-4211-a4b4-75f0b51ccbf9",
        "part": "whole"
       },
       "id": "925010f3-f8b1-4d44-89c2-67e3963b07bc"
      }
     }
    },
    "7280149e-7d80-44c3-998e-2c40b7c1af11": {
     "id": "7280149e-7d80-44c3-998e-2c40b7c1af11",
     "prev": "e2b57173-6418-4a69-9e89-316cfd2e82b4",
     "regions": {
      "d2512b42-e964-492a-9a77-e44d648f008c": {
       "attrs": {
        "height": 0.8,
        "width": 0.8,
        "x": 0.1,
        "y": 0.1
       },
       "content": {
        "cell": "4fbd0b53-f14b-4ca2-b50f-b9a45e7f3626",
        "part": "whole"
       },
       "id": "d2512b42-e964-492a-9a77-e44d648f008c"
      }
     }
    },
    "73b2284c-9b05-42ab-8894-97c5a1d2e19f": {
     "id": "73b2284c-9b05-42ab-8894-97c5a1d2e19f",
     "prev": "4757d594-2560-4424-b5fa-5f4320475984",
     "regions": {
      "5cb03219-af2c-4876-a669-e00c00a2f767": {
       "attrs": {
        "height": 0.8,
        "width": 0.8,
        "x": 0.1,
        "y": 0.1
       },
       "content": {
        "cell": "97cfbb8f-56e0-4a56-af3a-3519e2fd80eb",
        "part": "whole"
       },
       "id": "5cb03219-af2c-4876-a669-e00c00a2f767"
      }
     }
    },
    "74159e17-d82a-4d4d-ae5e-3de0363b8a59": {
     "id": "74159e17-d82a-4d4d-ae5e-3de0363b8a59",
     "prev": "7280149e-7d80-44c3-998e-2c40b7c1af11",
     "regions": {
      "244414fe-9b7f-4afb-8f4c-089544cc3379": {
       "attrs": {
        "height": 0.8,
        "width": 0.8,
        "x": 0.1,
        "y": 0.1
       },
       "content": {
        "cell": "54ebe904-82dd-473a-9955-d654f70378f6",
        "part": "whole"
       },
       "id": "244414fe-9b7f-4afb-8f4c-089544cc3379"
      }
     }
    },
    "7b02f89c-273e-4210-aece-4929b3ffb11d": {
     "id": "7b02f89c-273e-4210-aece-4929b3ffb11d",
     "prev": "3efaccf7-ef93-4aa4-8608-45a76ed118e5",
     "regions": {
      "7e2eacb0-1b3b-49f5-88cb-2091093af577": {
       "attrs": {
        "height": 0.8,
        "width": 0.8,
        "x": 0.1,
        "y": 0.1
       },
       "content": {
        "cell": "5e676d54-65d4-43cc-8dcf-ce0f3ec3ffac",
        "part": "whole"
       },
       "id": "7e2eacb0-1b3b-49f5-88cb-2091093af577"
      }
     }
    },
    "827d0e9a-3a20-4a4b-9742-fb551ab9f643": {
     "id": "827d0e9a-3a20-4a4b-9742-fb551ab9f643",
     "prev": "a3850b53-fac6-4056-8446-70c493804600",
     "regions": {
      "27132aa2-75dd-48bd-8936-5f15b76dbb1e": {
       "attrs": {
        "height": 0.8,
        "width": 0.8,
        "x": 0.1,
        "y": 0.1
       },
       "content": {
        "cell": "ff3b9496-b8e8-443e-968f-34f7a518ecd5",
        "part": "whole"
       },
       "id": "27132aa2-75dd-48bd-8936-5f15b76dbb1e"
      }
     }
    },
    "99ef8682-dd34-4e38-a0ae-aa234fcd4f0c": {
     "id": "99ef8682-dd34-4e38-a0ae-aa234fcd4f0c",
     "prev": "827d0e9a-3a20-4a4b-9742-fb551ab9f643",
     "regions": {
      "66e471fa-2b7e-4d4d-9121-751eb5ac0986": {
       "attrs": {
        "height": 0.8,
        "width": 0.8,
        "x": 0.1,
        "y": 0.1
       },
       "content": {
        "cell": "ee7524d6-8229-4c62-9b47-392d86b26453",
        "part": "whole"
       },
       "id": "66e471fa-2b7e-4d4d-9121-751eb5ac0986"
      }
     }
    },
    "a3850b53-fac6-4056-8446-70c493804600": {
     "id": "a3850b53-fac6-4056-8446-70c493804600",
     "prev": "02af1cc2-c4e2-463e-8c71-daeaf1d8aeae",
     "regions": {
      "075b110f-101a-4735-981a-6b8c16fec53c": {
       "attrs": {
        "height": 0.8,
        "width": 0.8,
        "x": 0.1,
        "y": 0.1
       },
       "content": {
        "cell": "be5b89ae-d9fb-4087-ab2c-0aeca9d95cc8",
        "part": "whole"
       },
       "id": "075b110f-101a-4735-981a-6b8c16fec53c"
      }
     }
    },
    "a91e28dd-6e35-469b-85ce-7951625e5079": {
     "id": "a91e28dd-6e35-469b-85ce-7951625e5079",
     "prev": "1da4bd43-1fa6-4f43-9d07-8c4d9d76d0c8",
     "regions": {
      "392f0279-b8f5-4591-948b-0e17577107e5": {
       "attrs": {
        "height": 0.8,
        "width": 0.8,
        "x": 0.1,
        "y": 0.1
       },
       "content": {
        "cell": "eefab2e2-bcd3-47ea-8fde-47d9d727a03d",
        "part": "whole"
       },
       "id": "392f0279-b8f5-4591-948b-0e17577107e5"
      }
     }
    },
    "d1c47bed-9ac2-458b-a4a8-d3f33010049d": {
     "id": "d1c47bed-9ac2-458b-a4a8-d3f33010049d",
     "prev": "74159e17-d82a-4d4d-ae5e-3de0363b8a59",
     "regions": {
      "44165a9e-ed21-487a-844b-f0a2c270e3e1": {
       "attrs": {
        "height": 0.8,
        "width": 0.8,
        "x": 0.1,
        "y": 0.1
       },
       "content": {
        "cell": "156c0480-5de1-4a0f-b2a3-f7187c1ea26b",
        "part": "whole"
       },
       "id": "44165a9e-ed21-487a-844b-f0a2c270e3e1"
      }
     }
    },
    "e2b57173-6418-4a69-9e89-316cfd2e82b4": {
     "id": "e2b57173-6418-4a69-9e89-316cfd2e82b4",
     "prev": "1266e2e0-10e9-4f53-b8db-56c06f95d88e",
     "regions": {
      "31bb2b42-8edb-4312-87d3-dacfb9d79c9a": {
       "attrs": {
        "height": 0.8,
        "width": 0.8,
        "x": 0.1,
        "y": 0.1
       },
       "content": {
        "cell": "82c70eb4-0004-466e-9285-0bd39ccc680c",
        "part": "whole"
       },
       "id": "31bb2b42-8edb-4312-87d3-dacfb9d79c9a"
      }
     }
    },
    "f618ebf9-22cd-4f12-80ea-f5f9e7cf3df3": {
     "id": "f618ebf9-22cd-4f12-80ea-f5f9e7cf3df3",
     "prev": "44c0a13f-69cb-4975-8dac-69c6adb44b8d",
     "regions": {
      "5de1d091-4d17-4f4e-b732-d53f6f622d87": {
       "attrs": {
        "height": 0.8,
        "width": 0.8,
        "x": 0.1,
        "y": 0.1
       },
       "content": {
        "cell": "e4c4db76-2d05-43a6-aa6b-f773c18fdd3c",
        "part": "whole"
       },
       "id": "5de1d091-4d17-4f4e-b732-d53f6f622d87"
      }
     }
    },
    "fa0f16e9-64b3-4b47-aceb-0bd679cb79d8": {
     "id": "fa0f16e9-64b3-4b47-aceb-0bd679cb79d8",
     "prev": "38a7ef5a-6b0e-4f6e-805e-d08fde1aa5f7",
     "regions": {
      "0edd494d-1618-4ffa-8246-2e464422262b": {
       "attrs": {
        "height": 0.8,
        "width": 0.8,
        "x": 0.1,
        "y": 0.1
       },
       "content": {
        "cell": "0932cd40-a55a-4058-9c2d-7bbf14a40f11",
        "part": "whole"
       },
       "id": "0edd494d-1618-4ffa-8246-2e464422262b"
      }
     }
    },
    "fdc48802-7eb0-4db5-81da-4fd87e916b9e": {
     "id": "fdc48802-7eb0-4db5-81da-4fd87e916b9e",
     "prev": "46f0544a-34df-4797-9185-b4175e4f631f",
     "regions": {
      "dee8af27-2fac-4653-8d2e-d41011b8c5d1": {
       "attrs": {
        "height": 0.8,
        "width": 0.8,
        "x": 0.1,
        "y": 0.1
       },
       "content": {
        "cell": "4cfb3096-1e84-4fb8-8ab7-dbe6239aeb53",
        "part": "whole"
       },
       "id": "dee8af27-2fac-4653-8d2e-d41011b8c5d1"
      }
     }
    }
   },
   "themes": {}
  }
 },
 "nbformat": 4,
 "nbformat_minor": 1
}
